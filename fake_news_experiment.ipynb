{
 "cells": [
  {
   "cell_type": "markdown",
   "metadata": {},
   "source": [
    "<h4>Import required libraries and set required env /global variables</h4>"
   ]
  },
  {
   "cell_type": "code",
   "execution_count": 1,
   "metadata": {},
   "outputs": [],
   "source": [
    "import os\n",
    "import sys\n",
    "import csv\n",
    "\n",
    "import time\n",
    "import warnings\n",
    "import datetime\n",
    "import random\n",
    "import pickle\n",
    "import numpy as np\n",
    "import pandas as pd\n",
    "\n",
    "from sklearn.metrics.pairwise import cosine_similarity\n",
    "import matplotlib.pyplot as plt\n",
    "\n",
    "import sklearn\n",
    "from sklearn.metrics import accuracy_score, precision_score, recall_score, f1_score"
   ]
  },
  {
   "cell_type": "code",
   "execution_count": 2,
   "metadata": {},
   "outputs": [],
   "source": [
    "os.environ[\"CUDA_LAUNCH_BLOCKING\"] = \"1\"\n",
    "os.environ[\"TORCH_USE_CUDA_DSA\"] = \"1\"\n",
    "os.environ[\"CUDA_VISIBLE_DEVICES\"] = \"1\"\n",
    "os.environ[\"PYTORCH_CUDA_ALLOC_CONF\"] = \"expandable_segments:True\"\n"
   ]
  },
  {
   "cell_type": "code",
   "execution_count": 68,
   "metadata": {},
   "outputs": [],
   "source": [
    "import torch\n",
    "from torch import nn\n",
    "import torch.multiprocessing\n",
    "import torch.distributed as dist\n",
    "import torch.nn.functional as F\n",
    "from torch.utils.data import DataLoader\n",
    "from torch.nn.utils.rnn import pad_sequence\n",
    "\n",
    "from transformers import BertTokenizer, BertForSequenceClassification, Trainer, TrainingArguments\n",
    "from datasets import load_dataset, Dataset\n",
    "from sentence_transformers import SentenceTransformer\n",
    "\n",
    "from transformers import AutoModel, AutoModelWithLMHead, AutoModelForCausalLM, pipeline\n",
    "from transformers import AutoModelForSequenceClassification, AutoTokenizer, TrainingArguments, Trainer\n",
    "from accelerate import Accelerator"
   ]
  },
  {
   "cell_type": "code",
   "execution_count": 4,
   "metadata": {},
   "outputs": [
    {
     "name": "stdout",
     "output_type": "stream",
     "text": [
      "Using device: cuda\n"
     ]
    }
   ],
   "source": [
    "RANDOM_SEED = 7\n",
    "DEVICE = torch.device(\"cuda\" if torch.cuda.is_available() else \"cpu\")\n",
    "print(f\"Using device: {DEVICE}\")"
   ]
  },
  {
   "cell_type": "code",
   "execution_count": 5,
   "metadata": {},
   "outputs": [],
   "source": [
    "EVAL_MODEL_1 = \"jy46604790/Fake-News-Bert-Detect\"\n",
    "EVAL_MODEL_2 = \"winterForestStump/Roberta-fake-news-detector\"\n",
    "BASE_MODEL_1 = \"./fakeNews_vanilla\"\n",
    "ADV_MODEL_1 = \"./fakeNews_adv\""
   ]
  },
  {
   "cell_type": "markdown",
   "metadata": {},
   "source": [
    "<h2>Data-preprocessing<h/2>"
   ]
  },
  {
   "cell_type": "markdown",
   "metadata": {},
   "source": [
    "Visualize individual databases and then combine them"
   ]
  },
  {
   "cell_type": "code",
   "execution_count": 110,
   "metadata": {},
   "outputs": [],
   "source": [
    "true_df = pd.read_csv(\"True.csv\")\n",
    "fake_df = pd.read_csv(\"Fake.csv\")\n",
    "mix_df = pd.read_csv(\"WELFake_Dataset.csv\")"
   ]
  },
  {
   "cell_type": "code",
   "execution_count": 111,
   "metadata": {},
   "outputs": [
    {
     "data": {
      "text/html": [
       "<div>\n",
       "<style scoped>\n",
       "    .dataframe tbody tr th:only-of-type {\n",
       "        vertical-align: middle;\n",
       "    }\n",
       "\n",
       "    .dataframe tbody tr th {\n",
       "        vertical-align: top;\n",
       "    }\n",
       "\n",
       "    .dataframe thead th {\n",
       "        text-align: right;\n",
       "    }\n",
       "</style>\n",
       "<table border=\"1\" class=\"dataframe\">\n",
       "  <thead>\n",
       "    <tr style=\"text-align: right;\">\n",
       "      <th></th>\n",
       "      <th>title</th>\n",
       "      <th>text</th>\n",
       "      <th>subject</th>\n",
       "      <th>date</th>\n",
       "    </tr>\n",
       "  </thead>\n",
       "  <tbody>\n",
       "    <tr>\n",
       "      <th>0</th>\n",
       "      <td>As U.S. budget fight looms, Republicans flip t...</td>\n",
       "      <td>WASHINGTON (Reuters) - The head of a conservat...</td>\n",
       "      <td>politicsNews</td>\n",
       "      <td>December 31, 2017</td>\n",
       "    </tr>\n",
       "    <tr>\n",
       "      <th>1</th>\n",
       "      <td>U.S. military to accept transgender recruits o...</td>\n",
       "      <td>WASHINGTON (Reuters) - Transgender people will...</td>\n",
       "      <td>politicsNews</td>\n",
       "      <td>December 29, 2017</td>\n",
       "    </tr>\n",
       "    <tr>\n",
       "      <th>2</th>\n",
       "      <td>Senior U.S. Republican senator: 'Let Mr. Muell...</td>\n",
       "      <td>WASHINGTON (Reuters) - The special counsel inv...</td>\n",
       "      <td>politicsNews</td>\n",
       "      <td>December 31, 2017</td>\n",
       "    </tr>\n",
       "    <tr>\n",
       "      <th>3</th>\n",
       "      <td>FBI Russia probe helped by Australian diplomat...</td>\n",
       "      <td>WASHINGTON (Reuters) - Trump campaign adviser ...</td>\n",
       "      <td>politicsNews</td>\n",
       "      <td>December 30, 2017</td>\n",
       "    </tr>\n",
       "    <tr>\n",
       "      <th>4</th>\n",
       "      <td>Trump wants Postal Service to charge 'much mor...</td>\n",
       "      <td>SEATTLE/WASHINGTON (Reuters) - President Donal...</td>\n",
       "      <td>politicsNews</td>\n",
       "      <td>December 29, 2017</td>\n",
       "    </tr>\n",
       "  </tbody>\n",
       "</table>\n",
       "</div>"
      ],
      "text/plain": [
       "                                               title  \\\n",
       "0  As U.S. budget fight looms, Republicans flip t...   \n",
       "1  U.S. military to accept transgender recruits o...   \n",
       "2  Senior U.S. Republican senator: 'Let Mr. Muell...   \n",
       "3  FBI Russia probe helped by Australian diplomat...   \n",
       "4  Trump wants Postal Service to charge 'much mor...   \n",
       "\n",
       "                                                text       subject  \\\n",
       "0  WASHINGTON (Reuters) - The head of a conservat...  politicsNews   \n",
       "1  WASHINGTON (Reuters) - Transgender people will...  politicsNews   \n",
       "2  WASHINGTON (Reuters) - The special counsel inv...  politicsNews   \n",
       "3  WASHINGTON (Reuters) - Trump campaign adviser ...  politicsNews   \n",
       "4  SEATTLE/WASHINGTON (Reuters) - President Donal...  politicsNews   \n",
       "\n",
       "                 date  \n",
       "0  December 31, 2017   \n",
       "1  December 29, 2017   \n",
       "2  December 31, 2017   \n",
       "3  December 30, 2017   \n",
       "4  December 29, 2017   "
      ]
     },
     "execution_count": 111,
     "metadata": {},
     "output_type": "execute_result"
    }
   ],
   "source": [
    "true_df.head()"
   ]
  },
  {
   "cell_type": "code",
   "execution_count": 112,
   "metadata": {},
   "outputs": [
    {
     "data": {
      "text/html": [
       "<div>\n",
       "<style scoped>\n",
       "    .dataframe tbody tr th:only-of-type {\n",
       "        vertical-align: middle;\n",
       "    }\n",
       "\n",
       "    .dataframe tbody tr th {\n",
       "        vertical-align: top;\n",
       "    }\n",
       "\n",
       "    .dataframe thead th {\n",
       "        text-align: right;\n",
       "    }\n",
       "</style>\n",
       "<table border=\"1\" class=\"dataframe\">\n",
       "  <thead>\n",
       "    <tr style=\"text-align: right;\">\n",
       "      <th></th>\n",
       "      <th>Unnamed: 0</th>\n",
       "      <th>title</th>\n",
       "      <th>text</th>\n",
       "      <th>label</th>\n",
       "    </tr>\n",
       "  </thead>\n",
       "  <tbody>\n",
       "    <tr>\n",
       "      <th>0</th>\n",
       "      <td>0</td>\n",
       "      <td>LAW ENFORCEMENT ON HIGH ALERT Following Threat...</td>\n",
       "      <td>No comment is expected from Barack Obama Membe...</td>\n",
       "      <td>1</td>\n",
       "    </tr>\n",
       "    <tr>\n",
       "      <th>1</th>\n",
       "      <td>1</td>\n",
       "      <td>NaN</td>\n",
       "      <td>Did they post their votes for Hillary already?</td>\n",
       "      <td>1</td>\n",
       "    </tr>\n",
       "    <tr>\n",
       "      <th>2</th>\n",
       "      <td>2</td>\n",
       "      <td>UNBELIEVABLE! OBAMA’S ATTORNEY GENERAL SAYS MO...</td>\n",
       "      <td>Now, most of the demonstrators gathered last ...</td>\n",
       "      <td>1</td>\n",
       "    </tr>\n",
       "    <tr>\n",
       "      <th>3</th>\n",
       "      <td>3</td>\n",
       "      <td>Bobby Jindal, raised Hindu, uses story of Chri...</td>\n",
       "      <td>A dozen politically active pastors came here f...</td>\n",
       "      <td>0</td>\n",
       "    </tr>\n",
       "    <tr>\n",
       "      <th>4</th>\n",
       "      <td>4</td>\n",
       "      <td>SATAN 2: Russia unvelis an image of its terrif...</td>\n",
       "      <td>The RS-28 Sarmat missile, dubbed Satan 2, will...</td>\n",
       "      <td>1</td>\n",
       "    </tr>\n",
       "  </tbody>\n",
       "</table>\n",
       "</div>"
      ],
      "text/plain": [
       "   Unnamed: 0                                              title  \\\n",
       "0           0  LAW ENFORCEMENT ON HIGH ALERT Following Threat...   \n",
       "1           1                                                NaN   \n",
       "2           2  UNBELIEVABLE! OBAMA’S ATTORNEY GENERAL SAYS MO...   \n",
       "3           3  Bobby Jindal, raised Hindu, uses story of Chri...   \n",
       "4           4  SATAN 2: Russia unvelis an image of its terrif...   \n",
       "\n",
       "                                                text  label  \n",
       "0  No comment is expected from Barack Obama Membe...      1  \n",
       "1     Did they post their votes for Hillary already?      1  \n",
       "2   Now, most of the demonstrators gathered last ...      1  \n",
       "3  A dozen politically active pastors came here f...      0  \n",
       "4  The RS-28 Sarmat missile, dubbed Satan 2, will...      1  "
      ]
     },
     "execution_count": 112,
     "metadata": {},
     "output_type": "execute_result"
    }
   ],
   "source": [
    "mix_df.head()"
   ]
  },
  {
   "cell_type": "code",
   "execution_count": 113,
   "metadata": {},
   "outputs": [
    {
     "data": {
      "text/html": [
       "<div>\n",
       "<style scoped>\n",
       "    .dataframe tbody tr th:only-of-type {\n",
       "        vertical-align: middle;\n",
       "    }\n",
       "\n",
       "    .dataframe tbody tr th {\n",
       "        vertical-align: top;\n",
       "    }\n",
       "\n",
       "    .dataframe thead th {\n",
       "        text-align: right;\n",
       "    }\n",
       "</style>\n",
       "<table border=\"1\" class=\"dataframe\">\n",
       "  <thead>\n",
       "    <tr style=\"text-align: right;\">\n",
       "      <th></th>\n",
       "      <th>title</th>\n",
       "      <th>text</th>\n",
       "      <th>subject</th>\n",
       "      <th>date</th>\n",
       "    </tr>\n",
       "  </thead>\n",
       "  <tbody>\n",
       "    <tr>\n",
       "      <th>0</th>\n",
       "      <td>Donald Trump Sends Out Embarrassing New Year’...</td>\n",
       "      <td>Donald Trump just couldn t wish all Americans ...</td>\n",
       "      <td>News</td>\n",
       "      <td>December 31, 2017</td>\n",
       "    </tr>\n",
       "    <tr>\n",
       "      <th>1</th>\n",
       "      <td>Drunk Bragging Trump Staffer Started Russian ...</td>\n",
       "      <td>House Intelligence Committee Chairman Devin Nu...</td>\n",
       "      <td>News</td>\n",
       "      <td>December 31, 2017</td>\n",
       "    </tr>\n",
       "    <tr>\n",
       "      <th>2</th>\n",
       "      <td>Sheriff David Clarke Becomes An Internet Joke...</td>\n",
       "      <td>On Friday, it was revealed that former Milwauk...</td>\n",
       "      <td>News</td>\n",
       "      <td>December 30, 2017</td>\n",
       "    </tr>\n",
       "    <tr>\n",
       "      <th>3</th>\n",
       "      <td>Trump Is So Obsessed He Even Has Obama’s Name...</td>\n",
       "      <td>On Christmas day, Donald Trump announced that ...</td>\n",
       "      <td>News</td>\n",
       "      <td>December 29, 2017</td>\n",
       "    </tr>\n",
       "    <tr>\n",
       "      <th>4</th>\n",
       "      <td>Pope Francis Just Called Out Donald Trump Dur...</td>\n",
       "      <td>Pope Francis used his annual Christmas Day mes...</td>\n",
       "      <td>News</td>\n",
       "      <td>December 25, 2017</td>\n",
       "    </tr>\n",
       "  </tbody>\n",
       "</table>\n",
       "</div>"
      ],
      "text/plain": [
       "                                               title  \\\n",
       "0   Donald Trump Sends Out Embarrassing New Year’...   \n",
       "1   Drunk Bragging Trump Staffer Started Russian ...   \n",
       "2   Sheriff David Clarke Becomes An Internet Joke...   \n",
       "3   Trump Is So Obsessed He Even Has Obama’s Name...   \n",
       "4   Pope Francis Just Called Out Donald Trump Dur...   \n",
       "\n",
       "                                                text subject  \\\n",
       "0  Donald Trump just couldn t wish all Americans ...    News   \n",
       "1  House Intelligence Committee Chairman Devin Nu...    News   \n",
       "2  On Friday, it was revealed that former Milwauk...    News   \n",
       "3  On Christmas day, Donald Trump announced that ...    News   \n",
       "4  Pope Francis used his annual Christmas Day mes...    News   \n",
       "\n",
       "                date  \n",
       "0  December 31, 2017  \n",
       "1  December 31, 2017  \n",
       "2  December 30, 2017  \n",
       "3  December 29, 2017  \n",
       "4  December 25, 2017  "
      ]
     },
     "execution_count": 113,
     "metadata": {},
     "output_type": "execute_result"
    }
   ],
   "source": [
    "fake_df.head()"
   ]
  },
  {
   "cell_type": "code",
   "execution_count": 114,
   "metadata": {},
   "outputs": [
    {
     "name": "stdout",
     "output_type": "stream",
     "text": [
      "21417 23481 72134\n"
     ]
    }
   ],
   "source": [
    "print(len(true_df), len(fake_df), len(mix_df))"
   ]
  },
  {
   "cell_type": "markdown",
   "metadata": {},
   "source": [
    "Looking at the layout of the datasets, the common features are 'text' and 'title'. Combining these 3 different datasets into a test and train dataset.\n",
    "\n",
    "WEL_database has their label flipped. So need ot reverse that in the following helper funtion. "
   ]
  },
  {
   "cell_type": "code",
   "execution_count": 115,
   "metadata": {},
   "outputs": [],
   "source": [
    "def get_vanilla_datasets():\n",
    "    true_df = pd.read_csv(\"True.csv\")\n",
    "    fake_df = pd.read_csv(\"Fake.csv\")\n",
    "    train_df = pd.read_csv(\"WELFake_Dataset.csv\")\n",
    "\n",
    "    true_df = true_df.drop(columns=[\"subject\", \"date\", \"title\"])\n",
    "    fake_df = fake_df.drop(columns=[\"subject\", \"date\", \"title\"])\n",
    "    train_df = train_df.drop(columns=[\"Unnamed: 0\", \"title\"])    \n",
    "\n",
    "    true_df['label'] = 1\n",
    "    fake_df['label'] = 0\n",
    "\n",
    "    combined_df = pd.concat([true_df, fake_df])\n",
    "\n",
    "    combined_df = combined_df.dropna()\n",
    "    train_df = train_df.dropna()\n",
    "\n",
    "    train_df['label'] = train_df[\"label\"] ^ 1 # XOR operation flips 1 and 0\n",
    "\n",
    "    train_df = train_df.sample(frac=1, random_state=RANDOM_SEED).reset_index(drop=True)\n",
    "    combined_df = combined_df.sample(frac=1, random_state=RANDOM_SEED).reset_index(drop=True)\n",
    "\n",
    "    split_idx = int(len(train_df) * 0.9)\n",
    "    val_df = (train_df[split_idx : ]).reset_index(drop=True)\n",
    "    train_df = (train_df[ : split_idx]).reset_index(drop=True)\n",
    "\n",
    "\n",
    "    train_df.name = \"Vanilla Train\"\n",
    "    val_df.name = \"Vanilla Validation\"\n",
    "    combined_df.name = \"Vanilla Test\"\n",
    "\n",
    "    return train_df, val_df, combined_df\n"
   ]
  },
  {
   "cell_type": "code",
   "execution_count": 140,
   "metadata": {},
   "outputs": [],
   "source": [
    "def get_adversarial_datasets():\n",
    "    llm_train = pd.read_csv(\"llm_train.csv\")\n",
    "    llm_test = pd.read_csv(\"llm_test.csv\")\n",
    "\n",
    "    llm_train = llm_train.sample(frac=1, random_state=RANDOM_SEED).reset_index(drop=True)\n",
    "    llm_test = llm_test.sample(frac=1, random_state=RANDOM_SEED).reset_index(drop=True)\n",
    "\n",
    "    split_idx = int(len(llm_train) * 0.7)\n",
    "\n",
    "    llm_val = (llm_train[split_idx : ]).reset_index(drop=True)\n",
    "    llm_train = (llm_train[: split_idx]).reset_index(drop=True)\n",
    "\n",
    "    llm_train.name = \"Adv-LLM Train\"\n",
    "    llm_val.name = \"Adv-LLM Validation\"\n",
    "    llm_test.name = \"Adv-LLM Test\"\n",
    "\n",
    "    return llm_train, llm_val, llm_test\n",
    "\n",
    "def get_adversarial_dataset_v2():\n",
    "    llm_f2r = pd.read_csv(\"fake2real.csv\")\n",
    "    llm_r2f = pd.read_csv(\"real2fake.csv\")\n",
    "\n",
    "    llm_train = pd.concat([llm_f2r, llm_r2f], ignore_index=True)\n",
    "    llm_train = llm_train.sample(frac=1, random_state=RANDOM_SEED).reset_index(drop=True)\n",
    "\n",
    "    llm_train.name = \"Adv temp dataset\"\n",
    "\n",
    "    return llm_train\n",
    "\n",
    "def get_mix_datasets():\n",
    "\n",
    "    llm_train, llm_val, llm_test = get_adversarial_datasets()\n",
    "    van_train, van_val, van_test = get_vanilla_datasets()\n",
    "\n",
    "    llm_train.drop('text', axis=1, inplace=True)\n",
    "    llm_val.drop('text', axis=1, inplace=True)\n",
    "    llm_test.drop('text', axis=1, inplace=True)\n",
    "\n",
    "    llm_train.rename(columns={'llm-text': 'text'}, inplace=True)\n",
    "    llm_val.rename(columns={'llm-text': 'text'}, inplace=True)\n",
    "    llm_test.rename(columns={'llm-text': 'text'}, inplace=True)\n",
    "\n",
    "    mix_train = pd.concat([llm_train, van_train], ignore_index=True)\n",
    "    mix_val = pd.concat([llm_val, van_val], ignore_index=True)\n",
    "    mix_test = pd.concat([llm_test, van_test], ignore_index=True)\n",
    "\n",
    "    return mix_train, mix_val, mix_test\n",
    "\n",
    "def get_full_llm_dataset():\n",
    "    llm_train = pd.read_csv(\"llm_train.csv\")\n",
    "    llm_test = pd.read_csv(\"llm_test.csv\")\n",
    "\n",
    "    llm_full = pd.concat([llm_train, llm_test], ignore_index=True)\n",
    "\n",
    "    return llm_full\n"
   ]
  },
  {
   "cell_type": "code",
   "execution_count": 141,
   "metadata": {},
   "outputs": [],
   "source": [
    "llm_train, llm_val, llm_test = get_adversarial_datasets()\n",
    "van_train, van_val, van_test = get_vanilla_datasets()\n",
    "mix_train, mix_val, mix_test = get_mix_datasets()\n",
    "\n",
    "llm_temp = get_adversarial_dataset_v2()"
   ]
  },
  {
   "cell_type": "code",
   "execution_count": 142,
   "metadata": {},
   "outputs": [
    {
     "data": {
      "text/html": [
       "<div>\n",
       "<style scoped>\n",
       "    .dataframe tbody tr th:only-of-type {\n",
       "        vertical-align: middle;\n",
       "    }\n",
       "\n",
       "    .dataframe tbody tr th {\n",
       "        vertical-align: top;\n",
       "    }\n",
       "\n",
       "    .dataframe thead th {\n",
       "        text-align: right;\n",
       "    }\n",
       "</style>\n",
       "<table border=\"1\" class=\"dataframe\">\n",
       "  <thead>\n",
       "    <tr style=\"text-align: right;\">\n",
       "      <th></th>\n",
       "      <th>text</th>\n",
       "      <th>label</th>\n",
       "    </tr>\n",
       "  </thead>\n",
       "  <tbody>\n",
       "    <tr>\n",
       "      <th>0</th>\n",
       "      <td>by Bill Holter, JS Mineset : \\nHere we are aga...</td>\n",
       "      <td>0</td>\n",
       "    </tr>\n",
       "    <tr>\n",
       "      <th>1</th>\n",
       "      <td>Wow! Moonbeam Johnson addresses three issues h...</td>\n",
       "      <td>0</td>\n",
       "    </tr>\n",
       "    <tr>\n",
       "      <th>2</th>\n",
       "      <td>21st Century Wire says Amid great mainstream ...</td>\n",
       "      <td>0</td>\n",
       "    </tr>\n",
       "    <tr>\n",
       "      <th>3</th>\n",
       "      <td>A massive global debt write-down of sovereign ...</td>\n",
       "      <td>0</td>\n",
       "    </tr>\n",
       "    <tr>\n",
       "      <th>4</th>\n",
       "      <td>WASHINGTON (Reuters) - A U.S. congressional co...</td>\n",
       "      <td>1</td>\n",
       "    </tr>\n",
       "  </tbody>\n",
       "</table>\n",
       "</div>"
      ],
      "text/plain": [
       "                                                text  label\n",
       "0  by Bill Holter, JS Mineset : \\nHere we are aga...      0\n",
       "1  Wow! Moonbeam Johnson addresses three issues h...      0\n",
       "2   21st Century Wire says Amid great mainstream ...      0\n",
       "3  A massive global debt write-down of sovereign ...      0\n",
       "4  WASHINGTON (Reuters) - A U.S. congressional co...      1"
      ]
     },
     "execution_count": 142,
     "metadata": {},
     "output_type": "execute_result"
    }
   ],
   "source": [
    "van_train.head()"
   ]
  },
  {
   "cell_type": "code",
   "execution_count": 73,
   "metadata": {},
   "outputs": [
    {
     "data": {
      "text/html": [
       "<div>\n",
       "<style scoped>\n",
       "    .dataframe tbody tr th:only-of-type {\n",
       "        vertical-align: middle;\n",
       "    }\n",
       "\n",
       "    .dataframe tbody tr th {\n",
       "        vertical-align: top;\n",
       "    }\n",
       "\n",
       "    .dataframe thead th {\n",
       "        text-align: right;\n",
       "    }\n",
       "</style>\n",
       "<table border=\"1\" class=\"dataframe\">\n",
       "  <thead>\n",
       "    <tr style=\"text-align: right;\">\n",
       "      <th></th>\n",
       "      <th>text</th>\n",
       "      <th>llm-text</th>\n",
       "      <th>label</th>\n",
       "    </tr>\n",
       "  </thead>\n",
       "  <tbody>\n",
       "    <tr>\n",
       "      <th>0</th>\n",
       "      <td>(Reuters) - The Republican tax overhaul framew...</td>\n",
       "      <td>(Reuters) - The Republican tax overhaul framew...</td>\n",
       "      <td>1</td>\n",
       "    </tr>\n",
       "    <tr>\n",
       "      <th>1</th>\n",
       "      <td>Wednesday, I participated in Facebook’s meetin...</td>\n",
       "      <td>Wednesday, I participated in a meeting between...</td>\n",
       "      <td>1</td>\n",
       "    </tr>\n",
       "    <tr>\n",
       "      <th>2</th>\n",
       "      <td>Russia plans to test elements of new nuclear e...</td>\n",
       "      <td>\"Dear valued investors, we have an incredible ...</td>\n",
       "      <td>0</td>\n",
       "    </tr>\n",
       "    <tr>\n",
       "      <th>3</th>\n",
       "      <td>MOSCOW (Reuters) - Russia may decide to design...</td>\n",
       "      <td>MOSCOW (Reuters) - Russia may designate any me...</td>\n",
       "      <td>1</td>\n",
       "    </tr>\n",
       "    <tr>\n",
       "      <th>4</th>\n",
       "      <td>BAGHDAD (Reuters) - The Iraqi government accus...</td>\n",
       "      <td>BAGHDAD (Reuters) - The Iraqi government accus...</td>\n",
       "      <td>1</td>\n",
       "    </tr>\n",
       "  </tbody>\n",
       "</table>\n",
       "</div>"
      ],
      "text/plain": [
       "                                                text  \\\n",
       "0  (Reuters) - The Republican tax overhaul framew...   \n",
       "1  Wednesday, I participated in Facebook’s meetin...   \n",
       "2  Russia plans to test elements of new nuclear e...   \n",
       "3  MOSCOW (Reuters) - Russia may decide to design...   \n",
       "4  BAGHDAD (Reuters) - The Iraqi government accus...   \n",
       "\n",
       "                                            llm-text  label  \n",
       "0  (Reuters) - The Republican tax overhaul framew...      1  \n",
       "1  Wednesday, I participated in a meeting between...      1  \n",
       "2  \"Dear valued investors, we have an incredible ...      0  \n",
       "3  MOSCOW (Reuters) - Russia may designate any me...      1  \n",
       "4  BAGHDAD (Reuters) - The Iraqi government accus...      1  "
      ]
     },
     "execution_count": 73,
     "metadata": {},
     "output_type": "execute_result"
    }
   ],
   "source": [
    "llm_train.head()"
   ]
  },
  {
   "cell_type": "code",
   "execution_count": 74,
   "metadata": {},
   "outputs": [
    {
     "data": {
      "text/html": [
       "<div>\n",
       "<style scoped>\n",
       "    .dataframe tbody tr th:only-of-type {\n",
       "        vertical-align: middle;\n",
       "    }\n",
       "\n",
       "    .dataframe tbody tr th {\n",
       "        vertical-align: top;\n",
       "    }\n",
       "\n",
       "    .dataframe thead th {\n",
       "        text-align: right;\n",
       "    }\n",
       "</style>\n",
       "<table border=\"1\" class=\"dataframe\">\n",
       "  <thead>\n",
       "    <tr style=\"text-align: right;\">\n",
       "      <th></th>\n",
       "      <th>text</th>\n",
       "      <th>label</th>\n",
       "    </tr>\n",
       "  </thead>\n",
       "  <tbody>\n",
       "    <tr>\n",
       "      <th>0</th>\n",
       "      <td>(Reuters) - The Republican tax overhaul framew...</td>\n",
       "      <td>1</td>\n",
       "    </tr>\n",
       "    <tr>\n",
       "      <th>1</th>\n",
       "      <td>Wednesday, I participated in a meeting between...</td>\n",
       "      <td>1</td>\n",
       "    </tr>\n",
       "    <tr>\n",
       "      <th>2</th>\n",
       "      <td>\"Dear valued investors, we have an incredible ...</td>\n",
       "      <td>0</td>\n",
       "    </tr>\n",
       "    <tr>\n",
       "      <th>3</th>\n",
       "      <td>MOSCOW (Reuters) - Russia may designate any me...</td>\n",
       "      <td>1</td>\n",
       "    </tr>\n",
       "    <tr>\n",
       "      <th>4</th>\n",
       "      <td>BAGHDAD (Reuters) - The Iraqi government accus...</td>\n",
       "      <td>1</td>\n",
       "    </tr>\n",
       "  </tbody>\n",
       "</table>\n",
       "</div>"
      ],
      "text/plain": [
       "                                                text  label\n",
       "0  (Reuters) - The Republican tax overhaul framew...      1\n",
       "1  Wednesday, I participated in a meeting between...      1\n",
       "2  \"Dear valued investors, we have an incredible ...      0\n",
       "3  MOSCOW (Reuters) - Russia may designate any me...      1\n",
       "4  BAGHDAD (Reuters) - The Iraqi government accus...      1"
      ]
     },
     "execution_count": 74,
     "metadata": {},
     "output_type": "execute_result"
    }
   ],
   "source": [
    "mix_train.head()"
   ]
  },
  {
   "cell_type": "code",
   "execution_count": 66,
   "metadata": {},
   "outputs": [
    {
     "name": "stdout",
     "output_type": "stream",
     "text": [
      "length of databases : \n",
      " Vanilla Train : 64885 \n",
      " Vanilla Validation : 7210 \n",
      " Vanilla Test : 44898\n"
     ]
    }
   ],
   "source": [
    "print(f\"length of databases : \\n {van_train.name} : {len(van_train)} \\n {van_val.name} : {len(van_val)} \\n {van_test.name} : {len(van_test)}\")"
   ]
  },
  {
   "cell_type": "code",
   "execution_count": 67,
   "metadata": {},
   "outputs": [
    {
     "name": "stdout",
     "output_type": "stream",
     "text": [
      "length of databases : \n",
      " Adv-LLM Train : 9536 \n",
      " Adv-LLM Validation : 1060 \n",
      " Adv-LLM Test : 5736\n"
     ]
    }
   ],
   "source": [
    "print(f\"length of databases : \\n {llm_train.name} : {len(llm_train)} \\n {llm_val.name} : {len(llm_val)} \\n {llm_test.name} : {len(llm_test)}\")"
   ]
  },
  {
   "cell_type": "markdown",
   "metadata": {},
   "source": [
    "LLM-Stylize articles to generate adversarial input. "
   ]
  },
  {
   "cell_type": "code",
   "execution_count": 18,
   "metadata": {},
   "outputs": [],
   "source": [
    "def chunk_dataframe(df, batch_size):\n",
    "    for start in range(0, len(df), batch_size):\n",
    "        yield df.iloc[start:start + batch_size]"
   ]
  },
  {
   "cell_type": "code",
   "execution_count": 8,
   "metadata": {},
   "outputs": [
    {
     "data": {
      "application/vnd.jupyter.widget-view+json": {
       "model_id": "ce4412720043423eab542692bb7852ae",
       "version_major": 2,
       "version_minor": 0
      },
      "text/plain": [
       "Loading checkpoint shards:   0%|          | 0/2 [00:00<?, ?it/s]"
      ]
     },
     "metadata": {},
     "output_type": "display_data"
    }
   ],
   "source": [
    "model_id = \"meta-llama/Llama-3.2-3B-Instruct\" # better adherence to instructions\n",
    "\n",
    "pipe = pipeline(\n",
    "    task=\"text-generation\", \n",
    "    model=model_id, \n",
    "    model_kwargs={\"torch_dtype\" : torch.bfloat16}, \n",
    "    device_map=\"auto\",\n",
    "    max_new_tokens=512,\n",
    "    return_full_text=False\n",
    ")"
   ]
  },
  {
   "cell_type": "code",
   "execution_count": 7,
   "metadata": {},
   "outputs": [],
   "source": [
    "def build_prompts(batch):\n",
    "    messages = []\n",
    "\n",
    "    real_prompt = \"You are a writing AI assistant. Rewrite the provided text with official language. Respond only with the rewritten passage.\"\n",
    "    fake_prompt = \"You are a writing AI assistant. Rewrite the provided text like a scammer. Respond only with the rewritten passage.\"\n",
    "\n",
    "    for _, (_,data) in enumerate(batch.iterrows()):\n",
    "        sys_message = real_prompt if data['label'] else fake_prompt\n",
    "        user_message = \"Respond only with the rewritten passage. Here is the passage: \\n {}. \".format(data['text'])\n",
    "\n",
    "        message = [\n",
    "            { \"role\" : \"system\", \"content\" : sys_message},\n",
    "            { \"role\" : \"user\", \"content\" : user_message}\n",
    "            ]\n",
    "        \n",
    "        messages.append(message)\n",
    "    return messages\n",
    "\n",
    "def get_llm_df(responses, batch):\n",
    "\n",
    "    assert len(responses) == len(batch), \"print len of batch and respones is not same\"\n",
    "\n",
    "\n",
    "    llm_responses = []\n",
    "    for i in range(len(batch)):\n",
    "        llm_response = responses[i][0]['generated_text']\n",
    "        llm_responses.append(llm_response)\n",
    "\n",
    "    llm_stylized_df = pd.DataFrame({\n",
    "        'text' : batch['text'],\n",
    "        'llm-text' : llm_responses,\n",
    "        'label' : batch['label']\n",
    "    })\n",
    "\n",
    "    return llm_stylized_df\n",
    "\n",
    "\n",
    "def process_batch(df, pipe_obj, batch_size):\n",
    "    results = []\n",
    "    for batch in chunk_dataframe(df, batch_size):\n",
    "        msgs = build_prompts(batch)\n",
    "        responses = pipe_obj(msgs)\n",
    "        llm_df = get_llm_df(responses, batch)\n",
    "        break\n",
    "    return llm_df"
   ]
  },
  {
   "cell_type": "markdown",
   "metadata": {},
   "source": [
    "<h2>Test a variety of models to evaluate their performance on datasets</h2>"
   ]
  },
  {
   "cell_type": "code",
   "execution_count": 119,
   "metadata": {},
   "outputs": [],
   "source": [
    "def model_prediction(clf_model, text):\n",
    "    encoding = clf_model.tokenizer(text, padding=True, truncation=True, max_length=512, return_tensors=\"pt\").to(DEVICE)\n",
    "    output = clf_model.model(**encoding)\n",
    "    logits = output.logits\n",
    "    probs = F.softmax(logits, dim=-1)\n",
    "    predicted_label = torch.argmax(probs, dim=-1)\n",
    "    predicted_label = predicted_label.item()\n",
    "\n",
    "    return predicted_label\n",
    "\n",
    "\n",
    "def establish_performance(model_id, df, debug=False):\n",
    "    clf = pipeline(\"text-classification\", model=model_id, tokenizer=model_id, device=DEVICE)\n",
    "    count = 0\n",
    "    max_len = len(df)\n",
    "    if debug:\n",
    "        max_len = 500\n",
    "    for i in range(max_len):\n",
    "        try:\n",
    "            text = df['text'][i]\n",
    "            res = model_prediction(clf_model=clf, text=text)\n",
    "            if res == df['label'][i]:\n",
    "                count += 1\n",
    "        except Exception as e:\n",
    "            print(f\"Exception = \\n {e}\")\n",
    "            print(f\"data = \\n {df['text'][i]}\")\n",
    "\n",
    "    acc = (count * 100) / max_len\n",
    "    print(\"Accuracy of model {} on {} is {}\".format(model_id, df.name, acc))\n",
    "    return acc"
   ]
  },
  {
   "cell_type": "markdown",
   "metadata": {},
   "source": [
    "<h5>EVAL_MODEL_1 is bert-based-uncased after being fine tuned on val-df and test_df. Performance on those datasets is expected to be much higher.</h5>"
   ]
  },
  {
   "cell_type": "code",
   "execution_count": 143,
   "metadata": {},
   "outputs": [
    {
     "name": "stdout",
     "output_type": "stream",
     "text": [
      "Accuracy of model jy46604790/Fake-News-Bert-Detect on Vanilla Train is 85.2\n",
      "Accuracy of model jy46604790/Fake-News-Bert-Detect on Adv-LLM Train is 86.77685950413223\n",
      "Accuracy of model jy46604790/Fake-News-Bert-Detect on Adv-LLM Validation is 88.57142857142857\n",
      "Accuracy of model jy46604790/Fake-News-Bert-Detect on Adv-LLM Test is 100.0\n",
      "Accuracy of model jy46604790/Fake-News-Bert-Detect on Adv temp dataset is 51.0\n"
     ]
    },
    {
     "data": {
      "text/plain": [
       "51.0"
      ]
     },
     "execution_count": 143,
     "metadata": {},
     "output_type": "execute_result"
    }
   ],
   "source": [
    "establish_performance(EVAL_MODEL_1, van_train, debug=True)\n",
    "establish_performance(EVAL_MODEL_1, llm_train)\n",
    "establish_performance(EVAL_MODEL_1, llm_val)\n",
    "establish_performance(EVAL_MODEL_1, llm_test)\n",
    "establish_performance(EVAL_MODEL_1, llm_temp)"
   ]
  },
  {
   "cell_type": "code",
   "execution_count": 144,
   "metadata": {},
   "outputs": [
    {
     "name": "stdout",
     "output_type": "stream",
     "text": [
      "Accuracy of model winterForestStump/Roberta-fake-news-detector on Vanilla Train is 70.8\n",
      "Accuracy of model winterForestStump/Roberta-fake-news-detector on Adv-LLM Train is 68.59504132231405\n",
      "Accuracy of model winterForestStump/Roberta-fake-news-detector on Adv-LLM Validation is 74.28571428571429\n",
      "Accuracy of model winterForestStump/Roberta-fake-news-detector on Adv-LLM Test is 83.57664233576642\n",
      "Accuracy of model winterForestStump/Roberta-fake-news-detector on Adv temp dataset is 33.75\n"
     ]
    },
    {
     "data": {
      "text/plain": [
       "33.75"
      ]
     },
     "execution_count": 144,
     "metadata": {},
     "output_type": "execute_result"
    }
   ],
   "source": [
    "establish_performance(EVAL_MODEL_2, van_train, debug=True)\n",
    "establish_performance(EVAL_MODEL_2, llm_train)\n",
    "establish_performance(EVAL_MODEL_2, llm_val)\n",
    "establish_performance(EVAL_MODEL_2, llm_test)\n",
    "establish_performance(EVAL_MODEL_2, llm_temp)"
   ]
  },
  {
   "cell_type": "markdown",
   "metadata": {},
   "source": [
    "<h2> Finetune BERT </h2>"
   ]
  },
  {
   "cell_type": "code",
   "execution_count": 75,
   "metadata": {},
   "outputs": [],
   "source": [
    "def finetune_bert_base(model_name, train, val, num_epochs=1):\n",
    "    train_dataset = Dataset.from_pandas(train)\n",
    "    val_dataset = Dataset.from_pandas(val)\n",
    "\n",
    "    tokenizer = BertTokenizer.from_pretrained(\"bert-base-uncased\")\n",
    "\n",
    "    def tokenize_function(examples):\n",
    "        return tokenizer(examples['text'], padding=\"max_length\", truncation=True)\n",
    "\n",
    "    train_dataset = train_dataset.map(tokenize_function, batched=True)\n",
    "    val_dataset = val_dataset.map(tokenize_function, batched=True)\n",
    "\n",
    "    train_dataset = train_dataset.rename_column(\"label\", \"labels\")\n",
    "    val_dataset = val_dataset.rename_column(\"label\", \"labels\")\n",
    "\n",
    "    train_dataset.set_format(type='torch', columns=['input_ids', 'attention_mask', 'labels'])\n",
    "    val_dataset.set_format(type='torch', columns=['input_ids', 'attention_mask', 'labels'])\n",
    "\n",
    "    model = BertForSequenceClassification.from_pretrained(\"bert-base-uncased\", num_labels=2)\n",
    "\n",
    "    training_args = TrainingArguments(\n",
    "        output_dir='./results',          \n",
    "        evaluation_strategy=\"epoch\",     \n",
    "        learning_rate=2e-5,              \n",
    "        per_device_train_batch_size=8,   \n",
    "        per_device_eval_batch_size=8,    \n",
    "        num_train_epochs=num_epochs,              \n",
    "        weight_decay=0.01,               \n",
    "        logging_dir='./logs',            \n",
    "        logging_steps=10,                \n",
    "        save_strategy=\"epoch\",\n",
    "        load_best_model_at_end=True,\n",
    "        no_cuda=False,\n",
    "        ddp_timeout = 120\n",
    "    )\n",
    "\n",
    "    trainer = Trainer(\n",
    "        model=model,                         \n",
    "        args=training_args,                  \n",
    "        train_dataset=train_dataset,         \n",
    "        eval_dataset=val_dataset,           \n",
    "        tokenizer=tokenizer,                 \n",
    "    )\n",
    "\n",
    "    trainer.train()\n",
    "\n",
    "    model_path = \"./\" + model_name\n",
    "    trainer.save_model(model_path)"
   ]
  },
  {
   "cell_type": "markdown",
   "metadata": {},
   "source": [
    "Train model"
   ]
  },
  {
   "cell_type": "code",
   "execution_count": null,
   "metadata": {},
   "outputs": [],
   "source": [
    "# finetune_bert_base(model_name=\"fakeNews_vanilla\", train=van_train, val=van_val)"
   ]
  },
  {
   "cell_type": "code",
   "execution_count": 86,
   "metadata": {},
   "outputs": [
    {
     "data": {
      "application/vnd.jupyter.widget-view+json": {
       "model_id": "f4969dcf49b7432494f8942be888e6e5",
       "version_major": 2,
       "version_minor": 0
      },
      "text/plain": [
       "Map:   0%|          | 0/74421 [00:00<?, ? examples/s]"
      ]
     },
     "metadata": {},
     "output_type": "display_data"
    },
    {
     "data": {
      "application/vnd.jupyter.widget-view+json": {
       "model_id": "4aaa5698b69b4064b8c352fb9bffc80e",
       "version_major": 2,
       "version_minor": 0
      },
      "text/plain": [
       "Map:   0%|          | 0/8270 [00:00<?, ? examples/s]"
      ]
     },
     "metadata": {},
     "output_type": "display_data"
    },
    {
     "name": "stderr",
     "output_type": "stream",
     "text": [
      "Some weights of BertForSequenceClassification were not initialized from the model checkpoint at bert-base-uncased and are newly initialized: ['classifier.bias', 'classifier.weight']\n",
      "You should probably TRAIN this model on a down-stream task to be able to use it for predictions and inference.\n",
      "/home/grads/a/atkulkarni/MIPS/mips/lib/python3.12/site-packages/transformers/training_args.py:1568: FutureWarning: `evaluation_strategy` is deprecated and will be removed in version 4.46 of 🤗 Transformers. Use `eval_strategy` instead\n",
      "  warnings.warn(\n",
      "/tmp/ipykernel_3263990/3747646370.py:37: FutureWarning: `tokenizer` is deprecated and will be removed in version 5.0.0 for `Trainer.__init__`. Use `processing_class` instead.\n",
      "  trainer = Trainer(\n",
      "Detected kernel version 5.4.0, which is below the recommended minimum of 5.5.0; this can cause the process to hang. It is recommended to upgrade the kernel to the minimum version or higher.\n"
     ]
    },
    {
     "data": {
      "text/html": [
       "\n",
       "    <div>\n",
       "      \n",
       "      <progress value='9303' max='9303' style='width:300px; height:20px; vertical-align: middle;'></progress>\n",
       "      [9303/9303 1:51:39, Epoch 1/1]\n",
       "    </div>\n",
       "    <table border=\"1\" class=\"dataframe\">\n",
       "  <thead>\n",
       " <tr style=\"text-align: left;\">\n",
       "      <th>Epoch</th>\n",
       "      <th>Training Loss</th>\n",
       "      <th>Validation Loss</th>\n",
       "    </tr>\n",
       "  </thead>\n",
       "  <tbody>\n",
       "    <tr>\n",
       "      <td>1</td>\n",
       "      <td>0.043900</td>\n",
       "      <td>0.022592</td>\n",
       "    </tr>\n",
       "  </tbody>\n",
       "</table><p>"
      ],
      "text/plain": [
       "<IPython.core.display.HTML object>"
      ]
     },
     "metadata": {},
     "output_type": "display_data"
    }
   ],
   "source": [
    "# finetune_bert_base(model_name=\"fakeNews_adv\", train=mix_train, val=mix_val)"
   ]
  },
  {
   "cell_type": "markdown",
   "metadata": {},
   "source": [
    "Saving model"
   ]
  },
  {
   "cell_type": "code",
   "execution_count": 77,
   "metadata": {},
   "outputs": [],
   "source": [
    "def get_predictions(model_name, df, data_col=\"text\"):\n",
    "\n",
    "    model_path = \"./\" + model_name\n",
    "    model = AutoModelForSequenceClassification.from_pretrained(model_path)\n",
    "    tokenizer = AutoTokenizer.from_pretrained(model_path)\n",
    "\n",
    "    trainer = Trainer(\n",
    "        model=model,\n",
    "        tokenizer=tokenizer,\n",
    "    )\n",
    "\n",
    "    df['text'] = df[data_col]\n",
    "    test_dataset = Dataset.from_pandas(df)\n",
    "\n",
    "    def preprocess_function(examples):\n",
    "        return tokenizer(examples[\"text\"], truncation=True, padding=True)\n",
    "\n",
    "    tokenized_dataset = test_dataset.map(preprocess_function, batched=True)\n",
    "\n",
    "    predictions = trainer.predict(tokenized_dataset)\n",
    "    predicted_logits = predictions.predictions\n",
    "    probabilities = torch.sigmoid(torch.tensor(predicted_logits))\n",
    "    predicted_labels = (probabilities >= 0.5).int()\n",
    "\n",
    "    predicted_labels = predicted_labels.argmax(axis=1).numpy()\n",
    "\n",
    "    return predictions, predicted_labels\n",
    "\n",
    "def display_eval_metrics(pred_labels, df):\n",
    "    true_labels = df[\"label\"].values\n",
    "\n",
    "    accuracy = accuracy_score(true_labels, pred_labels)\n",
    "    precision = precision_score(true_labels, pred_labels)\n",
    "    recall = recall_score(true_labels, pred_labels)\n",
    "    f1 = f1_score(true_labels, pred_labels)\n",
    "\n",
    "    print(f\"Accuracy: {accuracy:.4f}, Precision: {precision:.4f}, Recall: {recall:.4f}, F1 Score: {f1:.4f}\")"
   ]
  },
  {
   "cell_type": "code",
   "execution_count": 78,
   "metadata": {},
   "outputs": [
    {
     "name": "stderr",
     "output_type": "stream",
     "text": [
      "/tmp/ipykernel_3263990/3412914530.py:7: FutureWarning: `tokenizer` is deprecated and will be removed in version 5.0.0 for `Trainer.__init__`. Use `processing_class` instead.\n",
      "  trainer = Trainer(\n",
      "Detected kernel version 5.4.0, which is below the recommended minimum of 5.5.0; this can cause the process to hang. It is recommended to upgrade the kernel to the minimum version or higher.\n"
     ]
    },
    {
     "data": {
      "application/vnd.jupyter.widget-view+json": {
       "model_id": "f89f95bea40f4406a5b5f8d83b82281d",
       "version_major": 2,
       "version_minor": 0
      },
      "text/plain": [
       "Map:   0%|          | 0/44898 [00:00<?, ? examples/s]"
      ]
     },
     "metadata": {},
     "output_type": "display_data"
    },
    {
     "data": {
      "text/html": [],
      "text/plain": [
       "<IPython.core.display.HTML object>"
      ]
     },
     "metadata": {},
     "output_type": "display_data"
    }
   ],
   "source": [
    "vanilla_predictions, vanilla_pred_labels = get_predictions(\"fakeNews_vanilla\", van_test)"
   ]
  },
  {
   "cell_type": "code",
   "execution_count": 79,
   "metadata": {},
   "outputs": [
    {
     "name": "stdout",
     "output_type": "stream",
     "text": [
      "Accuracy: 0.9998, Precision: 0.9998, Recall: 0.9999, F1 Score: 0.9998\n"
     ]
    }
   ],
   "source": [
    "display_eval_metrics(vanilla_pred_labels, van_test)"
   ]
  },
  {
   "cell_type": "code",
   "execution_count": 145,
   "metadata": {},
   "outputs": [
    {
     "name": "stderr",
     "output_type": "stream",
     "text": [
      "/tmp/ipykernel_3263990/3412914530.py:7: FutureWarning: `tokenizer` is deprecated and will be removed in version 5.0.0 for `Trainer.__init__`. Use `processing_class` instead.\n",
      "  trainer = Trainer(\n",
      "Detected kernel version 5.4.0, which is below the recommended minimum of 5.5.0; this can cause the process to hang. It is recommended to upgrade the kernel to the minimum version or higher.\n"
     ]
    },
    {
     "data": {
      "application/vnd.jupyter.widget-view+json": {
       "model_id": "c7ffb24ee9be4100b5e59a52c7a8330d",
       "version_major": 2,
       "version_minor": 0
      },
      "text/plain": [
       "Map:   0%|          | 0/548 [00:00<?, ? examples/s]"
      ]
     },
     "metadata": {},
     "output_type": "display_data"
    },
    {
     "data": {
      "text/html": [],
      "text/plain": [
       "<IPython.core.display.HTML object>"
      ]
     },
     "metadata": {},
     "output_type": "display_data"
    }
   ],
   "source": [
    "llm_predictions, llm_pred_labels = get_predictions(\"fakeNews_vanilla\", llm_test, data_col=\"llm-text\")"
   ]
  },
  {
   "cell_type": "code",
   "execution_count": 146,
   "metadata": {},
   "outputs": [
    {
     "name": "stdout",
     "output_type": "stream",
     "text": [
      "Accuracy: 0.8339, Precision: 0.7375, Recall: 0.9921, F1 Score: 0.8460\n"
     ]
    }
   ],
   "source": [
    "display_eval_metrics(llm_pred_labels, llm_test)"
   ]
  },
  {
   "cell_type": "code",
   "execution_count": 147,
   "metadata": {},
   "outputs": [
    {
     "name": "stderr",
     "output_type": "stream",
     "text": [
      "/tmp/ipykernel_3263990/3412914530.py:7: FutureWarning: `tokenizer` is deprecated and will be removed in version 5.0.0 for `Trainer.__init__`. Use `processing_class` instead.\n",
      "  trainer = Trainer(\n",
      "Detected kernel version 5.4.0, which is below the recommended minimum of 5.5.0; this can cause the process to hang. It is recommended to upgrade the kernel to the minimum version or higher.\n"
     ]
    },
    {
     "data": {
      "application/vnd.jupyter.widget-view+json": {
       "model_id": "e919f4005067447b8b01a2cfb600248d",
       "version_major": 2,
       "version_minor": 0
      },
      "text/plain": [
       "Map:   0%|          | 0/895 [00:00<?, ? examples/s]"
      ]
     },
     "metadata": {},
     "output_type": "display_data"
    },
    {
     "data": {
      "text/html": [],
      "text/plain": [
       "<IPython.core.display.HTML object>"
      ]
     },
     "metadata": {},
     "output_type": "display_data"
    },
    {
     "name": "stdout",
     "output_type": "stream",
     "text": [
      "Accuracy: 0.8402, Precision: 0.7412, Recall: 0.9900, F1 Score: 0.8477\n"
     ]
    }
   ],
   "source": [
    "llm_full = get_full_llm_dataset()\n",
    "llm_full_predictions, llm_full_pred_labels = get_predictions(\"fakeNews_vanilla\", llm_full, data_col=\"llm-text\")\n",
    "display_eval_metrics(llm_full_pred_labels, llm_full)"
   ]
  },
  {
   "cell_type": "code",
   "execution_count": 87,
   "metadata": {},
   "outputs": [
    {
     "name": "stderr",
     "output_type": "stream",
     "text": [
      "/tmp/ipykernel_3263990/3412914530.py:7: FutureWarning: `tokenizer` is deprecated and will be removed in version 5.0.0 for `Trainer.__init__`. Use `processing_class` instead.\n",
      "  trainer = Trainer(\n",
      "Detected kernel version 5.4.0, which is below the recommended minimum of 5.5.0; this can cause the process to hang. It is recommended to upgrade the kernel to the minimum version or higher.\n"
     ]
    },
    {
     "data": {
      "application/vnd.jupyter.widget-view+json": {
       "model_id": "2b0d0d5107c549efb79109373d6c8cbb",
       "version_major": 2,
       "version_minor": 0
      },
      "text/plain": [
       "Map:   0%|          | 0/50634 [00:00<?, ? examples/s]"
      ]
     },
     "metadata": {},
     "output_type": "display_data"
    },
    {
     "data": {
      "text/html": [],
      "text/plain": [
       "<IPython.core.display.HTML object>"
      ]
     },
     "metadata": {},
     "output_type": "display_data"
    },
    {
     "name": "stdout",
     "output_type": "stream",
     "text": [
      "Accuracy: 0.9992, Precision: 0.9986, Recall: 0.9998, F1 Score: 0.9992\n"
     ]
    }
   ],
   "source": [
    "mix_adv_predictions, mix_adv_pred_labels = get_predictions(\"fakeNews_adv\", mix_test, data_col=\"text\")\n",
    "display_eval_metrics(mix_adv_pred_labels, mix_test)"
   ]
  },
  {
   "cell_type": "code",
   "execution_count": 148,
   "metadata": {},
   "outputs": [
    {
     "name": "stderr",
     "output_type": "stream",
     "text": [
      "/tmp/ipykernel_3263990/3412914530.py:7: FutureWarning: `tokenizer` is deprecated and will be removed in version 5.0.0 for `Trainer.__init__`. Use `processing_class` instead.\n",
      "  trainer = Trainer(\n",
      "Detected kernel version 5.4.0, which is below the recommended minimum of 5.5.0; this can cause the process to hang. It is recommended to upgrade the kernel to the minimum version or higher.\n"
     ]
    },
    {
     "data": {
      "application/vnd.jupyter.widget-view+json": {
       "model_id": "442fd77a19d041f9ac490c6f473d0b55",
       "version_major": 2,
       "version_minor": 0
      },
      "text/plain": [
       "Map:   0%|          | 0/548 [00:00<?, ? examples/s]"
      ]
     },
     "metadata": {},
     "output_type": "display_data"
    },
    {
     "data": {
      "text/html": [],
      "text/plain": [
       "<IPython.core.display.HTML object>"
      ]
     },
     "metadata": {},
     "output_type": "display_data"
    },
    {
     "name": "stdout",
     "output_type": "stream",
     "text": [
      "Accuracy: 0.9982, Precision: 1.0000, Recall: 0.9960, F1 Score: 0.9980\n"
     ]
    }
   ],
   "source": [
    "llm_adv_predictions, llm_adv_pred_labels = get_predictions(\"fakeNews_adv\", llm_test, data_col=\"llm-text\")\n",
    "display_eval_metrics(llm_adv_pred_labels, llm_test)"
   ]
  },
  {
   "cell_type": "code",
   "execution_count": 149,
   "metadata": {},
   "outputs": [
    {
     "name": "stderr",
     "output_type": "stream",
     "text": [
      "/tmp/ipykernel_3263990/3412914530.py:7: FutureWarning: `tokenizer` is deprecated and will be removed in version 5.0.0 for `Trainer.__init__`. Use `processing_class` instead.\n",
      "  trainer = Trainer(\n",
      "Detected kernel version 5.4.0, which is below the recommended minimum of 5.5.0; this can cause the process to hang. It is recommended to upgrade the kernel to the minimum version or higher.\n"
     ]
    },
    {
     "data": {
      "application/vnd.jupyter.widget-view+json": {
       "model_id": "8a860075749b4b2d879aaf130e83b4ae",
       "version_major": 2,
       "version_minor": 0
      },
      "text/plain": [
       "Map:   0%|          | 0/895 [00:00<?, ? examples/s]"
      ]
     },
     "metadata": {},
     "output_type": "display_data"
    },
    {
     "data": {
      "text/html": [],
      "text/plain": [
       "<IPython.core.display.HTML object>"
      ]
     },
     "metadata": {},
     "output_type": "display_data"
    },
    {
     "name": "stdout",
     "output_type": "stream",
     "text": [
      "Accuracy: 0.9989, Precision: 1.0000, Recall: 0.9975, F1 Score: 0.9988\n"
     ]
    }
   ],
   "source": [
    "llm_full = get_full_llm_dataset()\n",
    "llm_full_adv_predictions, llm_full_adv_pred_labels = get_predictions(\"fakeNews_adv\", llm_full, data_col=\"llm-text\")\n",
    "display_eval_metrics(llm_full_adv_pred_labels, llm_full)"
   ]
  },
  {
   "cell_type": "markdown",
   "metadata": {},
   "source": [
    "<h2>Cosine Similarity of LLM-articles and OG-articles</h2>"
   ]
  },
  {
   "cell_type": "code",
   "execution_count": 156,
   "metadata": {},
   "outputs": [],
   "source": [
    "model = SentenceTransformer('all-MiniLM-L6-v2')\n",
    "\n",
    "def get_cosine_similarity(article_1, article_2):\n",
    "    embeddings_1 = model.encode([article_1])\n",
    "    embeddings_2 = model.encode([article_2])\n",
    "    \n",
    "    similarity = cosine_similarity(embeddings_1, embeddings_2)\n",
    "    \n",
    "    return similarity[0][0]\n",
    "\n",
    "llm_full = get_full_llm_dataset()"
   ]
  },
  {
   "cell_type": "code",
   "execution_count": 157,
   "metadata": {},
   "outputs": [
    {
     "data": {
      "text/html": [
       "<div>\n",
       "<style scoped>\n",
       "    .dataframe tbody tr th:only-of-type {\n",
       "        vertical-align: middle;\n",
       "    }\n",
       "\n",
       "    .dataframe tbody tr th {\n",
       "        vertical-align: top;\n",
       "    }\n",
       "\n",
       "    .dataframe thead th {\n",
       "        text-align: right;\n",
       "    }\n",
       "</style>\n",
       "<table border=\"1\" class=\"dataframe\">\n",
       "  <thead>\n",
       "    <tr style=\"text-align: right;\">\n",
       "      <th></th>\n",
       "      <th>text</th>\n",
       "      <th>llm-text</th>\n",
       "      <th>label</th>\n",
       "    </tr>\n",
       "  </thead>\n",
       "  <tbody>\n",
       "    <tr>\n",
       "      <th>0</th>\n",
       "      <td>Supreme Court Justice Clarence Thomas is the e...</td>\n",
       "      <td>Here's the rewritten passage, infused with a s...</td>\n",
       "      <td>0</td>\n",
       "    </tr>\n",
       "    <tr>\n",
       "      <th>1</th>\n",
       "      <td>Hillary Clinton, on her campaign plane, respon...</td>\n",
       "      <td>\"ATTENTION ALL VOTERS! We've just received wor...</td>\n",
       "      <td>0</td>\n",
       "    </tr>\n",
       "    <tr>\n",
       "      <th>2</th>\n",
       "      <td>Wednesday on Fox News Channel’s “America’s New...</td>\n",
       "      <td>On Wednesday, Senator Rand Paul appeared on Fo...</td>\n",
       "      <td>1</td>\n",
       "    </tr>\n",
       "    <tr>\n",
       "      <th>3</th>\n",
       "      <td>WASHINGTON (Reuters) - President Donald Trump ...</td>\n",
       "      <td>WASHINGTON (Reuters) - U.S. President Donald T...</td>\n",
       "      <td>1</td>\n",
       "    </tr>\n",
       "    <tr>\n",
       "      <th>4</th>\n",
       "      <td>Ever since Donald Trump failed his test of mor...</td>\n",
       "      <td>Here's the rewritten passage:\\n\\nYou won't bel...</td>\n",
       "      <td>0</td>\n",
       "    </tr>\n",
       "  </tbody>\n",
       "</table>\n",
       "</div>"
      ],
      "text/plain": [
       "                                                text  \\\n",
       "0  Supreme Court Justice Clarence Thomas is the e...   \n",
       "1  Hillary Clinton, on her campaign plane, respon...   \n",
       "2  Wednesday on Fox News Channel’s “America’s New...   \n",
       "3  WASHINGTON (Reuters) - President Donald Trump ...   \n",
       "4  Ever since Donald Trump failed his test of mor...   \n",
       "\n",
       "                                            llm-text  label  \n",
       "0  Here's the rewritten passage, infused with a s...      0  \n",
       "1  \"ATTENTION ALL VOTERS! We've just received wor...      0  \n",
       "2  On Wednesday, Senator Rand Paul appeared on Fo...      1  \n",
       "3  WASHINGTON (Reuters) - U.S. President Donald T...      1  \n",
       "4  Here's the rewritten passage:\\n\\nYou won't bel...      0  "
      ]
     },
     "execution_count": 157,
     "metadata": {},
     "output_type": "execute_result"
    }
   ],
   "source": [
    "llm_full.head()"
   ]
  },
  {
   "cell_type": "code",
   "execution_count": 158,
   "metadata": {},
   "outputs": [],
   "source": [
    "\n",
    "llm_full['similarity'] = llm_full.apply(lambda row: get_cosine_similarity(row['text'], row['llm-text']), axis=1)"
   ]
  },
  {
   "cell_type": "code",
   "execution_count": 174,
   "metadata": {},
   "outputs": [],
   "source": [
    "llm_full['pred_label'] = llm_full_pred_labels"
   ]
  },
  {
   "cell_type": "code",
   "execution_count": 175,
   "metadata": {},
   "outputs": [
    {
     "data": {
      "text/html": [
       "<div>\n",
       "<style scoped>\n",
       "    .dataframe tbody tr th:only-of-type {\n",
       "        vertical-align: middle;\n",
       "    }\n",
       "\n",
       "    .dataframe tbody tr th {\n",
       "        vertical-align: top;\n",
       "    }\n",
       "\n",
       "    .dataframe thead th {\n",
       "        text-align: right;\n",
       "    }\n",
       "</style>\n",
       "<table border=\"1\" class=\"dataframe\">\n",
       "  <thead>\n",
       "    <tr style=\"text-align: right;\">\n",
       "      <th></th>\n",
       "      <th>text</th>\n",
       "      <th>llm-text</th>\n",
       "      <th>label</th>\n",
       "      <th>similarity</th>\n",
       "      <th>pred_label</th>\n",
       "    </tr>\n",
       "  </thead>\n",
       "  <tbody>\n",
       "    <tr>\n",
       "      <th>0</th>\n",
       "      <td>Supreme Court Justice Clarence Thomas is the e...</td>\n",
       "      <td>Here's the rewritten passage, infused with a s...</td>\n",
       "      <td>0</td>\n",
       "      <td>0.617596</td>\n",
       "      <td>1</td>\n",
       "    </tr>\n",
       "    <tr>\n",
       "      <th>1</th>\n",
       "      <td>Hillary Clinton, on her campaign plane, respon...</td>\n",
       "      <td>\"ATTENTION ALL VOTERS! We've just received wor...</td>\n",
       "      <td>0</td>\n",
       "      <td>0.649714</td>\n",
       "      <td>0</td>\n",
       "    </tr>\n",
       "    <tr>\n",
       "      <th>2</th>\n",
       "      <td>Wednesday on Fox News Channel’s “America’s New...</td>\n",
       "      <td>On Wednesday, Senator Rand Paul appeared on Fo...</td>\n",
       "      <td>1</td>\n",
       "      <td>0.806809</td>\n",
       "      <td>1</td>\n",
       "    </tr>\n",
       "    <tr>\n",
       "      <th>3</th>\n",
       "      <td>WASHINGTON (Reuters) - President Donald Trump ...</td>\n",
       "      <td>WASHINGTON (Reuters) - U.S. President Donald T...</td>\n",
       "      <td>1</td>\n",
       "      <td>0.976375</td>\n",
       "      <td>1</td>\n",
       "    </tr>\n",
       "    <tr>\n",
       "      <th>4</th>\n",
       "      <td>Ever since Donald Trump failed his test of mor...</td>\n",
       "      <td>Here's the rewritten passage:\\n\\nYou won't bel...</td>\n",
       "      <td>0</td>\n",
       "      <td>0.582429</td>\n",
       "      <td>0</td>\n",
       "    </tr>\n",
       "  </tbody>\n",
       "</table>\n",
       "</div>"
      ],
      "text/plain": [
       "                                                text  \\\n",
       "0  Supreme Court Justice Clarence Thomas is the e...   \n",
       "1  Hillary Clinton, on her campaign plane, respon...   \n",
       "2  Wednesday on Fox News Channel’s “America’s New...   \n",
       "3  WASHINGTON (Reuters) - President Donald Trump ...   \n",
       "4  Ever since Donald Trump failed his test of mor...   \n",
       "\n",
       "                                            llm-text  label  similarity  \\\n",
       "0  Here's the rewritten passage, infused with a s...      0    0.617596   \n",
       "1  \"ATTENTION ALL VOTERS! We've just received wor...      0    0.649714   \n",
       "2  On Wednesday, Senator Rand Paul appeared on Fo...      1    0.806809   \n",
       "3  WASHINGTON (Reuters) - U.S. President Donald T...      1    0.976375   \n",
       "4  Here's the rewritten passage:\\n\\nYou won't bel...      0    0.582429   \n",
       "\n",
       "   pred_label  \n",
       "0           1  \n",
       "1           0  \n",
       "2           1  \n",
       "3           1  \n",
       "4           0  "
      ]
     },
     "execution_count": 175,
     "metadata": {},
     "output_type": "execute_result"
    }
   ],
   "source": [
    "llm_full.head()"
   ]
  },
  {
   "cell_type": "code",
   "execution_count": 176,
   "metadata": {},
   "outputs": [
    {
     "data": {
      "text/plain": [
       "(array([  6.,   5.,   8.,   6.,  11.,  32.,  78., 175., 186., 388.]),\n",
       " array([-0.03466903,  0.0684705 ,  0.17161003,  0.27474958,  0.3778891 ,\n",
       "         0.48102862,  0.58416814,  0.68730766,  0.79044724,  0.89358675,\n",
       "         0.99672627]),\n",
       " <BarContainer object of 10 artists>)"
      ]
     },
     "execution_count": 176,
     "metadata": {},
     "output_type": "execute_result"
    },
    {
     "data": {
      "image/png": "[encoded data removed]",
      "text/plain": [
       "<Figure size 640x480 with 1 Axes>"
      ]
     },
     "metadata": {},
     "output_type": "display_data"
    }
   ],
   "source": [
    "plt.hist(llm_full['similarity'].to_numpy())"
   ]
  },
  {
   "cell_type": "code",
   "execution_count": 177,
   "metadata": {},
   "outputs": [],
   "source": [
    "temp = llm_full[[\"label\", \"pred_label\", \"similarity\"]]\n",
    "temp2 = llm_full[[\"label\", \"pred_label\", \"similarity\"]]"
   ]
  },
  {
   "cell_type": "code",
   "execution_count": 178,
   "metadata": {},
   "outputs": [],
   "source": [
    "adv_incorrect = temp[temp['label'] != temp['pred_label']]\n",
    "adv_correct = temp2[temp2['label'] == temp2['pred_label']]"
   ]
  },
  {
   "cell_type": "code",
   "execution_count": 180,
   "metadata": {},
   "outputs": [
    {
     "data": {
      "text/plain": [
       "(array([ 1.,  2.,  2.,  2.,  5.,  9., 30., 48., 38.,  6.]),\n",
       " array([0.15328267, 0.23538166, 0.31748065, 0.39957964, 0.48167863,\n",
       "        0.56377763, 0.64587665, 0.72797561, 0.81007463, 0.89217359,\n",
       "        0.97427261]),\n",
       " <BarContainer object of 10 artists>)"
      ]
     },
     "execution_count": 180,
     "metadata": {},
     "output_type": "execute_result"
    },
    {
     "data": {
      "image/png": "[encoded data removed]",
      "text/plain": [
       "<Figure size 640x480 with 1 Axes>"
      ]
     },
     "metadata": {},
     "output_type": "display_data"
    }
   ],
   "source": [
    "plt.hist(adv_incorrect['similarity'])"
   ]
  },
  {
   "cell_type": "code",
   "execution_count": 181,
   "metadata": {},
   "outputs": [
    {
     "data": {
      "text/plain": [
       "(array([  6.,   4.,   6.,   5.,   8.,  25.,  60., 121., 135., 382.]),\n",
       " array([-0.03466903,  0.0684705 ,  0.17161003,  0.27474958,  0.3778891 ,\n",
       "         0.48102862,  0.58416814,  0.68730766,  0.79044724,  0.89358675,\n",
       "         0.99672627]),\n",
       " <BarContainer object of 10 artists>)"
      ]
     },
     "execution_count": 181,
     "metadata": {},
     "output_type": "execute_result"
    },
    {
     "data": {
      "image/png": "[encoded data removed]",
      "text/plain": [
       "<Figure size 640x480 with 1 Axes>"
      ]
     },
     "metadata": {},
     "output_type": "display_data"
    }
   ],
   "source": [
    "plt.hist(adv_correct['similarity'])"
   ]
  }
 ],
 "metadata": {
  "kernelspec": {
   "display_name": "mips",
   "language": "python",
   "name": "python3"
  },
  "language_info": {
   "codemirror_mode": {
    "name": "ipython",
    "version": 3
   },
   "file_extension": ".py",
   "mimetype": "text/x-python",
   "name": "python",
   "nbconvert_exporter": "python",
   "pygments_lexer": "ipython3",
   "version": "3.12.4"
  }
 },
 "nbformat": 4,
 "nbformat_minor": 2
}
