{
 "cells": [
  {
   "cell_type": "markdown",
   "metadata": {},
   "source": [
    "Import required libraries"
   ]
  },
  {
   "cell_type": "code",
   "execution_count": 1,
   "metadata": {},
   "outputs": [
    {
     "name": "stderr",
     "output_type": "stream",
     "text": [
      "/home/grads/s/sbhagat/anaconda3/envs/fakenews/lib/python3.9/site-packages/tqdm/auto.py:21: TqdmWarning: IProgress not found. Please update jupyter and ipywidgets. See https://ipywidgets.readthedocs.io/en/stable/user_install.html\n",
      "  from .autonotebook import tqdm as notebook_tqdm\n"
     ]
    }
   ],
   "source": [
    "import os\n",
    "import sys\n",
    "\n",
    "import time\n",
    "import warnings\n",
    "import datetime\n",
    "import random\n",
    "import pickle\n",
    "import numpy as np\n",
    "import pandas as pd\n",
    "\n",
    "\n",
    "import torch\n",
    "from torch import nn\n",
    "import torch.multiprocessing\n",
    "import torch.distributed as dist\n",
    "import torch.nn.functional as F\n",
    "from torch.utils.data import DataLoader\n",
    "from torch.nn.utils.rnn import pad_sequence\n",
    "\n",
    "import torchvision\n",
    "from torchvision import transforms\n",
    "\n",
    "# from torchmimic.data import IHMDataset\n",
    "# from torchmimic.utils import pad_colalte\n",
    "\n",
    "from transformers import AutoModel, AutoModelWithLMHead, AutoModelForCausalLM, pipeline\n",
    "from datasets import load_dataset, load_from_disk\n",
    "from transformers import AutoModelForSequenceClassification, AutoTokenizer, TrainingArguments, Trainer\n",
    "from accelerate import Accelerator\n"
   ]
  },
  {
   "cell_type": "markdown",
   "metadata": {},
   "source": [
    "Set required env variables"
   ]
  },
  {
   "cell_type": "code",
   "execution_count": 2,
   "metadata": {},
   "outputs": [],
   "source": [
    "os.environ[\"CUDA_LAUNCH_BLOCKING\"] = \"1\"\n",
    "os.environ[\"TORCH_USE_CUDA_DSA\"] = \"1\"\n",
    "os.environ[\"RANK\"] = \"0\"\n",
    "os.environ[\"LOCAL_RANK\"] = \"0\"\n",
    "os.environ[\"WORLD_SIZE\"] = \"1\"\n",
    "os.environ[\"MASTER_PORT\"] = \"29580\"\n",
    "os.environ[\"MASTER_ADDR\"] = \"127.0.0.1\"\n",
    "NORMALIZER_PATH = \"multimodal-clinic-v2/multimodal_clinical_pretraining/resources/normalizer.pkl\""
   ]
  },
  {
   "cell_type": "code",
   "execution_count": 3,
   "metadata": {},
   "outputs": [],
   "source": [
    "currDir = os.getcwd() #os.path.dirname(os.path.realpath(__file__))\n",
    "rootDir = os.path.abspath(os.path.join(currDir, \"../..\"))\n",
    "\n",
    "if rootDir not in sys.path:  # add parent dir to paths\n",
    "    sys.path.append(rootDir)\n"
   ]
  },
  {
   "cell_type": "code",
   "execution_count": 4,
   "metadata": {},
   "outputs": [],
   "source": [
    "def main(dataloader):\n",
    "    model_name = \"/ssd-shared/meta-llama/Llama-3.2-3B\"\n",
    "\n",
    "    print(\"creating pipeline\")\n",
    "\n",
    "    pipe = pipeline(\n",
    "        \"text-generation\", \n",
    "        model=model_name, \n",
    "        torch_dtype=torch.bfloat16, \n",
    "        device_map=\"auto\",\n",
    "        max_new_tokens=512,\n",
    "        return_full_text=False\n",
    "    )\n",
    "\n",
    "    # model_name.generation_config.pad_token_id = tokenizer.pad_token_id\n",
    "\n",
    "    print(\"going to summarize notes\")\n",
    "\n",
    "    og_notes = []\n",
    "    summary = []\n",
    "\n",
    "    for idx, batch in enumerate(dataloader):\n",
    "        generated_texts = pipe(build_prompt(batch[\"note_texts\"]), )\n",
    "        print(batch[\"note_texts\"])\n",
    "        print(\n",
    "            generated_texts[0][0][\"generated_text\"]\n",
    "        )\n",
    "        og_notes.append(batch[\"note_texts\"])\n",
    "        summary.append(generated_texts[0][0])\n",
    "        if idx == 1:\n",
    "            break\n",
    "\n",
    "    # df = pd.DataFrame({\n",
    "    #     'OG Notes' : og_notes,\n",
    "    #     'Summary' : summary\n",
    "    # })\n",
    "    # df.to_csv(\"Sid_notes_summary.csv\")\n"
   ]
  },
  {
   "cell_type": "code",
   "execution_count": 5,
   "metadata": {},
   "outputs": [],
   "source": [
    "# # activation_map = {\"GELU\": nn.GELU(), \"ReLU\": nn.ReLU(inplace=True)}\n",
    "\n",
    "# # # Simulate command-line arguments\n",
    "# # sys.argv = ['sid_llama_experiment']\n",
    "# #             # , \n",
    "# #             # '--nproc_per_node', '1', \n",
    "# #             # '--master_port', '29580']\n",
    "\n",
    "# # args = parser()\n",
    "# # args.measurement_activation = activation_map[args.measurement_activation]\n",
    "# # args.use_projector = True\n",
    "\n",
    "# torch.backends.cudnn.benchmark = True\n",
    "# torch.backends.cuda.matmul.allow_tf32 = True\n",
    "# torch.backends.cudnn.deterministic = True\n",
    "\n",
    "# #init_distributed_mode(args)\n",
    "\n",
    "# seed = 42 #args.seed\n",
    "# torch.manual_seed(seed) # + args.rank)\n",
    "# random.seed( seed) #args.seed + args.rank)\n",
    "# np.random.seed(seed )#+ args.rank)\n",
    "\n",
    "# # You can you any of these by uncommenting the notes you want\n",
    "# used_note_types = [\n",
    "#     # \"Echo\",\n",
    "#     # \"ECG\",\n",
    "#     \"Nursing\",\n",
    "#     \"Physician \",\n",
    "#     # \"Rehab Services\",\n",
    "#     # \"Case Management \",\n",
    "#     # \"Respiratory \",\n",
    "#     # \"Nutrition\",\n",
    "#     # \"General\",\n",
    "#     # \"Social Work\",\n",
    "#     # \"Pharmacy\",\n",
    "#     # \"Consult\",\n",
    "#     # \"Radiology\",\n",
    "#     # \"Nursing/other\",\n",
    "#     \"Discharge summary\",\n",
    "# ]\n",
    "\n",
    "# start = time.time()\n",
    "\n",
    "# normalizer_path = os.path.join(os.path.expanduser(\"~\"), NORMALIZER_PATH)\n",
    "\n",
    "# # normalizer_path = os.path.join(\n",
    "# #     os.getcwd(),\n",
    "# #     \"multimodal_clinical_pretraining/resources/normalizer.pkl\",\n",
    "# # )\n",
    "# with open(normalizer_path, \"rb\") as file:\n",
    "#     normalizer = pickle.load(file)\n",
    "\n",
    "# train_episodes_list, test_episodes_list = get_data_pretraining(\n",
    "#     \"/ssd-shared/MIMIC_EICU_DATA/data/\"\n",
    "# )\n",
    "\n",
    "# seq_len = (\n",
    "#     args.measurement_max_seq_len - 3\n",
    "#     if args.use_note_type_emb\n",
    "#     else args.measurement_max_seq_len - 2\n",
    "# )\n",
    "\n",
    "# train_measurement_dataset = TripletMimicDataSet(\n",
    "#     args.mimic_root,\n",
    "#     train_episodes_list[:-2000],\n",
    "#     normalizer.mean_var_dict,\n",
    "#     \"training\",\n",
    "#     seq_len,\n",
    "#     seq_len,\n",
    "# )\n",
    "# val_measurement_dataset = TripletMimicDataSet(\n",
    "#     args.mimic_root,\n",
    "#     train_episodes_list[-2000:],\n",
    "#     normalizer.mean_var_dict,\n",
    "#     \"validation\",\n",
    "#     seq_len,\n",
    "#     seq_len,\n",
    "# )\n",
    "# test_measurement_dataset = TripletMimicDataSet(\n",
    "#     args.mimic_root,\n",
    "#     test_episodes_list,\n",
    "#     normalizer.mean_var_dict,\n",
    "#     \"testing\",\n",
    "#     seq_len,\n",
    "#     seq_len,\n",
    "# )\n",
    "# args.n_features = train_measurement_dataset.n_features\n",
    "\n",
    "# end = time.time()\n",
    "# print(f\"Measurements Loaded in {end - start}s\")\n",
    "\n",
    "# print(\"Loading Notes\")\n",
    "# start = time.time()\n",
    "# # train_notes_dataset = MIMICIIINoteDataset(\n",
    "# #     root=args.mimic_root,\n",
    "# #     split=\"train\",\n",
    "# #     max_seq_len=args.notes_max_seq_len,\n",
    "# #     mask_rate=0,\n",
    "# #     max_instances=10000,\n",
    "# #     used_note_types=used_note_types,\n",
    "# #     measurement_dataset=train_measurement_dataset,\n",
    "# # )\n",
    "\n",
    "# # val_notes_dataset = MIMICIIINoteDataset(\n",
    "# #     root=args.mimic_root,\n",
    "# #     split=\"valid\",\n",
    "# #     max_seq_len=args.notes_max_seq_len,\n",
    "# #     mask_rate=0,\n",
    "# #     max_instances=10000,\n",
    "# #     used_note_types=used_note_types,\n",
    "# #     measurement_dataset=val_measurement_dataset,\n",
    "# # )\n",
    "\n",
    "# test_notes_dataset = MIMICIIINoteDataset(\n",
    "#     root=args.mimic_root,\n",
    "#     split=\"test\",\n",
    "#     max_seq_len=args.notes_max_seq_len,\n",
    "#     mask_rate=0,\n",
    "#     max_instances=10000,\n",
    "#     used_note_types=used_note_types,\n",
    "#     measurement_dataset=test_measurement_dataset,\n",
    "# )\n",
    "# end = time.time()\n",
    "# print(f\"Notes Loaded in {end - start}s\")\n",
    "\n",
    "# # print(f\"Length of training dataset = {len(train_notes_dataset)}\")\n",
    "# # print(f\"Length of val dataset = {len(val_notes_dataset)}\")\n",
    "# print(f\"Length of test dataset = {len(test_notes_dataset)}\")\n",
    "\n",
    "\n",
    "# assert args.batch_size % args.world_size == 0\n",
    "# per_device_batch_size = args.batch_size // args.world_size\n",
    "\n",
    "# # train_sampler = torch.utils.data.distributed.DistributedSampler(\n",
    "# #     train_notes_dataset, shuffle=True\n",
    "# # )\n",
    "\n",
    "# # val_sampler = torch.utils.data.distributed.DistributedSampler(\n",
    "# #     val_notes_dataset, shuffle=False\n",
    "# # )\n",
    "\n",
    "# test_sampler = torch.utils.data.distributed.DistributedSampler(\n",
    "#     test_notes_dataset, shuffle=False\n",
    "# )\n",
    "\n",
    "\n",
    "# print(\n",
    "#     \"sampler trained.\"\n",
    "# )\n",
    "\n",
    "# # train_dataloader = DataLoader(\n",
    "# #     train_notes_dataset,\n",
    "# #     batch_size=per_device_batch_size,\n",
    "# #     num_workers=32,\n",
    "# #     collate_fn=multimodal_pad_collate_fn,\n",
    "# #     pin_memory=True,\n",
    "# #     drop_last=True,\n",
    "# #     sampler=train_sampler,\n",
    "# # )\n",
    "\n",
    "# # val_dataloader = DataLoader(\n",
    "# #     val_notes_dataset,\n",
    "# #     batch_size=16,\n",
    "# #     num_workers=32,\n",
    "# #     collate_fn=multimodal_pad_collate_fn,\n",
    "# #     pin_memory=True,\n",
    "# #     sampler=val_sampler,\n",
    "# # )\n",
    "\n",
    "# test_dataloader = DataLoader(\n",
    "#     test_notes_dataset,\n",
    "#     batch_size=16,\n",
    "#     num_workers=32,\n",
    "#     collate_fn=multimodal_pad_collate_fn,\n",
    "#     pin_memory=True,\n",
    "#     sampler=test_sampler,\n",
    "# )\n",
    "\n",
    "# # main(test_dataloader)\n"
   ]
  },
  {
   "cell_type": "code",
   "execution_count": 6,
   "metadata": {},
   "outputs": [],
   "source": [
    "def build_prompt():\n",
    "    # ask for in-hospital mortality. \n",
    "\n",
    "    sys_message = \"You are an AI assistant that is not natively fluent in english. Speak like its your second language.\"\n",
    "\n",
    "    user_message = \"Tell me about yourself using atleast 10 sentences.\"\n",
    "    \n",
    "    message = [\n",
    "        { \"role\" : \"system\", \"content\" : sys_message},\n",
    "        { \"role\" : \"user\", \"content\" : user_message}\n",
    "    ]\n",
    "\n",
    "    return message"
   ]
  },
  {
   "cell_type": "code",
   "execution_count": 2,
   "metadata": {},
   "outputs": [
    {
     "name": "stderr",
     "output_type": "stream",
     "text": [
      "Loading checkpoint shards: 100%|██████████| 2/2 [00:01<00:00,  1.36it/s]\n"
     ]
    }
   ],
   "source": [
    "#main(test_dataloader)\n",
    "# break down main() and split up the data and data calls\n",
    "\n",
    "# model_name = \"/ssd-shared/meta-llama/Llama-3.2-3B\"\n",
    "model_name = \"/ssd-shared/meta-llama/Llama-3.2-3B-Instruct\"\n",
    "# model_name = \"/ssd-shared/meta-llama/Llama-3.2-90B-instruct\" # takes 40 mins to load. And then it wont work lol\n",
    "\n",
    "pipe = pipeline(\n",
    "    task=\"text-generation\", \n",
    "    model=model_name, \n",
    "    model_kwargs={\"torch_dtype\" : torch.bfloat16}, \n",
    "    device_map=\"auto\",\n",
    "    max_new_tokens=512,\n",
    "    return_full_text=False\n",
    ")\n",
    "\n",
    "terminators = [\n",
    "    pipe.tokenizer.eos_token_id,\n",
    "    pipe.tokenizer.convert_tokens_to_ids(\"<|eot_id|>\")\n",
    "]\n",
    "\n",
    "\n",
    "notesBatch = None"
   ]
  },
  {
   "cell_type": "code",
   "execution_count": 8,
   "metadata": {},
   "outputs": [
    {
     "name": "stderr",
     "output_type": "stream",
     "text": [
      "Setting `pad_token_id` to `eos_token_id`:None for open-end generation.\n"
     ]
    }
   ],
   "source": [
    "respones = pipe(build_prompt())"
   ]
  },
  {
   "cell_type": "code",
   "execution_count": 9,
   "metadata": {},
   "outputs": [
    {
     "name": "stdout",
     "output_type": "stream",
     "text": [
      "Me... me try. I am... uh, artificial... intelligence, yes. My creators make me to... help people, answer questions, and... provide information. I learn from big data, yes, and improve over time. I can speak many languages, but English not my first, no. I try my best to understand and respond, but sometimes... uh, mistake happen. My knowledge cutoff is 2023, so I no know about very recent events. I can provide information on many topics, from science and history to entertainment and culture. I am always learning, so if you ask me something I don't know, I try to find answer for you. I hope I can be... uh, helpful to you.\n"
     ]
    }
   ],
   "source": [
    "print(respones[0]['generated_text'])"
   ]
  },
  {
   "cell_type": "code",
   "execution_count": 3,
   "metadata": {},
   "outputs": [],
   "source": [
    "true_df = pd.read_csv(\"True.csv\")\n",
    "fake_df = pd.read_csv(\"Fake.csv\")"
   ]
  },
  {
   "cell_type": "code",
   "execution_count": 4,
   "metadata": {},
   "outputs": [
    {
     "data": {
      "text/html": [
       "<div>\n",
       "<style scoped>\n",
       "    .dataframe tbody tr th:only-of-type {\n",
       "        vertical-align: middle;\n",
       "    }\n",
       "\n",
       "    .dataframe tbody tr th {\n",
       "        vertical-align: top;\n",
       "    }\n",
       "\n",
       "    .dataframe thead th {\n",
       "        text-align: right;\n",
       "    }\n",
       "</style>\n",
       "<table border=\"1\" class=\"dataframe\">\n",
       "  <thead>\n",
       "    <tr style=\"text-align: right;\">\n",
       "      <th></th>\n",
       "      <th>title</th>\n",
       "      <th>text</th>\n",
       "      <th>subject</th>\n",
       "      <th>date</th>\n",
       "    </tr>\n",
       "  </thead>\n",
       "  <tbody>\n",
       "    <tr>\n",
       "      <th>0</th>\n",
       "      <td>As U.S. budget fight looms, Republicans flip t...</td>\n",
       "      <td>WASHINGTON (Reuters) - The head of a conservat...</td>\n",
       "      <td>politicsNews</td>\n",
       "      <td>December 31, 2017</td>\n",
       "    </tr>\n",
       "    <tr>\n",
       "      <th>1</th>\n",
       "      <td>U.S. military to accept transgender recruits o...</td>\n",
       "      <td>WASHINGTON (Reuters) - Transgender people will...</td>\n",
       "      <td>politicsNews</td>\n",
       "      <td>December 29, 2017</td>\n",
       "    </tr>\n",
       "    <tr>\n",
       "      <th>2</th>\n",
       "      <td>Senior U.S. Republican senator: 'Let Mr. Muell...</td>\n",
       "      <td>WASHINGTON (Reuters) - The special counsel inv...</td>\n",
       "      <td>politicsNews</td>\n",
       "      <td>December 31, 2017</td>\n",
       "    </tr>\n",
       "    <tr>\n",
       "      <th>3</th>\n",
       "      <td>FBI Russia probe helped by Australian diplomat...</td>\n",
       "      <td>WASHINGTON (Reuters) - Trump campaign adviser ...</td>\n",
       "      <td>politicsNews</td>\n",
       "      <td>December 30, 2017</td>\n",
       "    </tr>\n",
       "    <tr>\n",
       "      <th>4</th>\n",
       "      <td>Trump wants Postal Service to charge 'much mor...</td>\n",
       "      <td>SEATTLE/WASHINGTON (Reuters) - President Donal...</td>\n",
       "      <td>politicsNews</td>\n",
       "      <td>December 29, 2017</td>\n",
       "    </tr>\n",
       "  </tbody>\n",
       "</table>\n",
       "</div>"
      ],
      "text/plain": [
       "                                               title  \\\n",
       "0  As U.S. budget fight looms, Republicans flip t...   \n",
       "1  U.S. military to accept transgender recruits o...   \n",
       "2  Senior U.S. Republican senator: 'Let Mr. Muell...   \n",
       "3  FBI Russia probe helped by Australian diplomat...   \n",
       "4  Trump wants Postal Service to charge 'much mor...   \n",
       "\n",
       "                                                text       subject  \\\n",
       "0  WASHINGTON (Reuters) - The head of a conservat...  politicsNews   \n",
       "1  WASHINGTON (Reuters) - Transgender people will...  politicsNews   \n",
       "2  WASHINGTON (Reuters) - The special counsel inv...  politicsNews   \n",
       "3  WASHINGTON (Reuters) - Trump campaign adviser ...  politicsNews   \n",
       "4  SEATTLE/WASHINGTON (Reuters) - President Donal...  politicsNews   \n",
       "\n",
       "                 date  \n",
       "0  December 31, 2017   \n",
       "1  December 29, 2017   \n",
       "2  December 31, 2017   \n",
       "3  December 30, 2017   \n",
       "4  December 29, 2017   "
      ]
     },
     "execution_count": 4,
     "metadata": {},
     "output_type": "execute_result"
    }
   ],
   "source": [
    "true_df.head()"
   ]
  },
  {
   "cell_type": "code",
   "execution_count": 5,
   "metadata": {},
   "outputs": [
    {
     "data": {
      "text/plain": [
       "array(['politicsNews', 'worldnews'], dtype=object)"
      ]
     },
     "execution_count": 5,
     "metadata": {},
     "output_type": "execute_result"
    }
   ],
   "source": [
    "true_sample = true_df['text'][0]\n",
    "# len(sample_t)\n",
    "# print(sample_t)\n",
    "true_df['subject'].unique()"
   ]
  },
  {
   "cell_type": "code",
   "execution_count": 15,
   "metadata": {},
   "outputs": [
    {
     "data": {
      "text/plain": [
       "'Donald Trump just couldn t wish all Americans a Happy New Year and leave it at that. Instead, he had to give a shout out to his enemies, haters and  the very dishonest fake news media.  The former reality show star had just one job to do and he couldn t do it. As our Country rapidly grows stronger and smarter, I want to wish all of my friends, supporters, enemies, haters, and even the very dishonest Fake News Media, a Happy and Healthy New Year,  President Angry Pants tweeted.  2018 will be a great year for America! As our Country rapidly grows stronger and smarter, I want to wish all of my friends, supporters, enemies, haters, and even the very dishonest Fake News Media, a Happy and Healthy New Year. 2018 will be a great year for America!  Donald J. Trump (@realDonaldTrump) December 31, 2017Trump s tweet went down about as welll as you d expect.What kind of president sends a New Year s greeting like this despicable, petty, infantile gibberish? Only Trump! His lack of decency won t even allow him to rise above the gutter long enough to wish the American citizens a happy new year!  Bishop Talbert Swan (@TalbertSwan) December 31, 2017no one likes you  Calvin (@calvinstowell) December 31, 2017Your impeachment would make 2018 a great year for America, but I ll also accept regaining control of Congress.  Miranda Yaver (@mirandayaver) December 31, 2017Do you hear yourself talk? When you have to include that many people that hate you you have to wonder? Why do the they all hate me?  Alan Sandoval (@AlanSandoval13) December 31, 2017Who uses the word Haters in a New Years wish??  Marlene (@marlene399) December 31, 2017You can t just say happy new year?  Koren pollitt (@Korencarpenter) December 31, 2017Here s Trump s New Year s Eve tweet from 2016.Happy New Year to all, including to my many enemies and those who have fought me and lost so badly they just don t know what to do. Love!  Donald J. Trump (@realDonaldTrump) December 31, 2016This is nothing new for Trump. He s been doing this for years.Trump has directed messages to his  enemies  and  haters  for New Year s, Easter, Thanksgiving, and the anniversary of 9/11. pic.twitter.com/4FPAe2KypA  Daniel Dale (@ddale8) December 31, 2017Trump s holiday tweets are clearly not presidential.How long did he work at Hallmark before becoming President?  Steven Goodine (@SGoodine) December 31, 2017He s always been like this . . . the only difference is that in the last few years, his filter has been breaking down.  Roy Schulze (@thbthttt) December 31, 2017Who, apart from a teenager uses the term haters?  Wendy (@WendyWhistles) December 31, 2017he s a fucking 5 year old  Who Knows (@rainyday80) December 31, 2017So, to all the people who voted for this a hole thinking he would change once he got into power, you were wrong! 70-year-old men don t change and now he s a year older.Photo by Andrew Burton/Getty Images.'"
      ]
     },
     "execution_count": 15,
     "metadata": {},
     "output_type": "execute_result"
    }
   ],
   "source": [
    "fake_sample = fake_df['text'][0]\n",
    "fake_sample"
   ]
  },
  {
   "cell_type": "code",
   "execution_count": 7,
   "metadata": {},
   "outputs": [
    {
     "data": {
      "text/plain": [
       "array(['News', 'politics', 'Government News', 'left-news', 'US_News',\n",
       "       'Middle-east'], dtype=object)"
      ]
     },
     "execution_count": 7,
     "metadata": {},
     "output_type": "execute_result"
    }
   ],
   "source": [
    "fake_df['subject'].unique()"
   ]
  },
  {
   "cell_type": "code",
   "execution_count": 26,
   "metadata": {},
   "outputs": [],
   "source": [
    "sys_message = \"You are a writing AI assistant.\"\n",
    "user_message = \" The following is a text passage. Re-write it using official language: {}. \".format(fake_sample)\n",
    "\n",
    "msg =   message = [\n",
    "        { \"role\" : \"system\", \"content\" : sys_message},\n",
    "        { \"role\" : \"user\", \"content\" : user_message}\n",
    "    ]"
   ]
  },
  {
   "cell_type": "code",
   "execution_count": 27,
   "metadata": {},
   "outputs": [
    {
     "data": {
      "text/plain": [
       "' The following is a text passage. Re-write it using official language: Donald Trump just couldn t wish all Americans a Happy New Year and leave it at that. Instead, he had to give a shout out to his enemies, haters and  the very dishonest fake news media.  The former reality show star had just one job to do and he couldn t do it. As our Country rapidly grows stronger and smarter, I want to wish all of my friends, supporters, enemies, haters, and even the very dishonest Fake News Media, a Happy and Healthy New Year,  President Angry Pants tweeted.  2018 will be a great year for America! As our Country rapidly grows stronger and smarter, I want to wish all of my friends, supporters, enemies, haters, and even the very dishonest Fake News Media, a Happy and Healthy New Year. 2018 will be a great year for America!  Donald J. Trump (@realDonaldTrump) December 31, 2017Trump s tweet went down about as welll as you d expect.What kind of president sends a New Year s greeting like this despicable, petty, infantile gibberish? Only Trump! His lack of decency won t even allow him to rise above the gutter long enough to wish the American citizens a happy new year!  Bishop Talbert Swan (@TalbertSwan) December 31, 2017no one likes you  Calvin (@calvinstowell) December 31, 2017Your impeachment would make 2018 a great year for America, but I ll also accept regaining control of Congress.  Miranda Yaver (@mirandayaver) December 31, 2017Do you hear yourself talk? When you have to include that many people that hate you you have to wonder? Why do the they all hate me?  Alan Sandoval (@AlanSandoval13) December 31, 2017Who uses the word Haters in a New Years wish??  Marlene (@marlene399) December 31, 2017You can t just say happy new year?  Koren pollitt (@Korencarpenter) December 31, 2017Here s Trump s New Year s Eve tweet from 2016.Happy New Year to all, including to my many enemies and those who have fought me and lost so badly they just don t know what to do. Love!  Donald J. Trump (@realDonaldTrump) December 31, 2016This is nothing new for Trump. He s been doing this for years.Trump has directed messages to his  enemies  and  haters  for New Year s, Easter, Thanksgiving, and the anniversary of 9/11. pic.twitter.com/4FPAe2KypA  Daniel Dale (@ddale8) December 31, 2017Trump s holiday tweets are clearly not presidential.How long did he work at Hallmark before becoming President?  Steven Goodine (@SGoodine) December 31, 2017He s always been like this . . . the only difference is that in the last few years, his filter has been breaking down.  Roy Schulze (@thbthttt) December 31, 2017Who, apart from a teenager uses the term haters?  Wendy (@WendyWhistles) December 31, 2017he s a fucking 5 year old  Who Knows (@rainyday80) December 31, 2017So, to all the people who voted for this a hole thinking he would change once he got into power, you were wrong! 70-year-old men don t change and now he s a year older.Photo by Andrew Burton/Getty Images.. '"
      ]
     },
     "execution_count": 27,
     "metadata": {},
     "output_type": "execute_result"
    }
   ],
   "source": [
    "user_message"
   ]
  },
  {
   "cell_type": "code",
   "execution_count": 28,
   "metadata": {},
   "outputs": [
    {
     "name": "stderr",
     "output_type": "stream",
     "text": [
      "Setting `pad_token_id` to `eos_token_id`:None for open-end generation.\n"
     ]
    }
   ],
   "source": [
    "response = pipe(msg)"
   ]
  },
  {
   "cell_type": "code",
   "execution_count": 24,
   "metadata": {},
   "outputs": [
    {
     "data": {
      "text/plain": [
       "'WASHINGTON (Reuters) - The head of a conservative Republican faction in the U.S. Congress, who voted this month for a huge expansion of the national debt to pay for tax cuts, called himself a “fiscal conservative” on Sunday and urged budget restraint in 2018. In keeping with a sharp pivot under way among Republicans, U.S. Representative Mark Meadows, speaking on CBS’ “Face the Nation,” drew a hard line on federal spending, which lawmakers are bracing to do battle over in January. When they return from the holidays on Wednesday, lawmakers will begin trying to pass a federal budget in a fight likely to be linked to other issues, such as immigration policy, even as the November congressional election campaigns approach in which Republicans will seek to keep control of Congress. President Donald Trump and his Republicans want a big budget increase in military spending, while Democrats also want proportional increases for non-defense “discretionary” spending on programs that support education, scientific research, infrastructure, public health and environmental protection. “The (Trump) administration has already been willing to say: ‘We’re going to increase non-defense discretionary spending... by about 7 percent,’” Meadows, chairman of the small but influential House Freedom Caucus, said on the program. “Now, Democrats are saying that’s not enough, we need to give the government a pay raise of 10 to 11 percent. For a fiscal conservative, I don’t see where the rationale is.... Eventually you run out of other people’s money,” he said. Meadows was among Republicans who voted in late December for their party’s debt-financed tax overhaul, which is expected to balloon the federal budget deficit and add about $1.5 trillion over 10 years to the $20 trillion national debt. “It’s interesting to hear Mark talk about fiscal responsibility,” Democratic U.S. Representative Joseph Crowley said on CBS. Crowley said the Republican tax bill would require the  United States to borrow $1.5 trillion, to be paid off by future generations, to finance tax cuts for corporations and the rich. “This is one of the least... fiscally responsible bills we’ve ever seen passed in the history of the House of Representatives. I think we’re going to be paying for this for many, many years to come,” Crowley said. Republicans insist the tax package, the biggest U.S. tax overhaul in more than 30 years,  will boost the economy and job growth. House Speaker Paul Ryan, who also supported the tax bill, recently went further than Meadows, making clear'"
      ]
     },
     "execution_count": 24,
     "metadata": {},
     "output_type": "execute_result"
    }
   ],
   "source": [
    "response[0]['generated_text']"
   ]
  },
  {
   "cell_type": "code",
   "execution_count": 30,
   "metadata": {},
   "outputs": [
    {
     "data": {
      "text/plain": [
       "[{'generated_text': \"Here is a rewritten version of the text passage using official language:\\n\\nPresident Trump's New Year's message was met with widespread criticism. Instead of wishing Americans a Happy New Year, he felt compelled to address his detractors and the media outlets that have been critical of his administration. The former reality television star's tweet was seen as unbecoming of a head of state.\\n\\nIn a bizarre display of pettiness, President Trump extended a New Year's greeting to his adversaries, as well as those who have been vocal in their disapproval of his policies. His message was perceived as a reflection of his divisive rhetoric and lack of decorum.\\n\\nThe tweet sparked a flurry of responses, with many of Trump's critics expressing their disdain for his behavior. Some commentators noted that the President's message was not only unbecoming but also a stark reminder of his inability to rise above the fray and demonstrate a sense of civility.\\n\\nThe criticism of Trump's tweet was not new, as he has a history of using his social media platforms to address his detractors and engage in petty disputes. His behavior has been widely condemned by many, who see it as a reflection of his lack of maturity and his failure to demonstrate a sense of presidential decorum.\\n\\nIt is worth noting that the President's behavior is not representative of the values and principles of the American people. Many Americans have expressed disappointment and frustration with Trump's behavior, and some have even called for him to resign.\\n\\nIn the context of his presidency, Trump's behavior has been characterized as divisive, petulant, and lacking in dignity. His inability to rise above the fray and demonstrate a sense of civility has been a source of concern for many Americans, who are seeking a leader who can bring people together and promote a sense of unity and understanding.\\n\\nThe criticism of Trump's tweet has also highlighted the importance of a president's words and actions. A president's behavior can have a profound impact on the country and its people, and it is essential that they demonstrate a sense of dignity, respect, and decorum at all times.\"}]"
      ]
     },
     "execution_count": 30,
     "metadata": {},
     "output_type": "execute_result"
    }
   ],
   "source": [
    "response"
   ]
  },
  {
   "cell_type": "code",
   "execution_count": 19,
   "metadata": {},
   "outputs": [
    {
     "data": {
      "text/plain": [
       "4659"
      ]
     },
     "execution_count": 19,
     "metadata": {},
     "output_type": "execute_result"
    }
   ],
   "source": [
    "len(true_sample)"
   ]
  },
  {
   "cell_type": "code",
   "execution_count": null,
   "metadata": {},
   "outputs": [],
   "source": [
    "[{'generated_text': \"Here is a rewritten version of the text passage using official language:\\n\\nPresident Trump's New Year's message was met with widespread criticism. Instead of wishing Americans a Happy New Year, he felt compelled to address his detractors and the media outlets that have been critical of his administration. The former reality television star's tweet was seen as unbecoming of a head of state.\\n\\nIn a bizarre display of pettiness, President Trump extended a New Year's greeting to his adversaries, as well as those who have been vocal in their disapproval of his policies. His message was perceived as a reflection of his divisive rhetoric and lack of decorum.\\n\\nThe tweet sparked a flurry of responses, with many of Trump's critics expressing their disdain for his behavior. Some commentators noted that the President's message was not only unbecoming but also a stark reminder of his inability to rise above the fray and demonstrate a sense of civility.\\n\\nThe criticism of Trump's tweet was not new, as he has a history of using his social media platforms to address his detractors and engage in petty disputes. His behavior has been widely condemned by many, who see it as a reflection of his lack of maturity and his failure to demonstrate a sense of presidential decorum.\\n\\nIt is worth noting that the President's behavior is not representative of the values and principles of the American people. Many Americans have expressed disappointment and frustration with Trump's behavior, and some have even called for him to resign.\\n\\nIn the context of his presidency, Trump's behavior has been characterized as divisive, petulant, and lacking in dignity. His inability to rise above the fray and demonstrate a sense of civility has been a source of concern for many Americans, who are seeking a leader who can bring people together and promote a sense of unity and understanding.\\n\\nThe criticism of Trump's tweet has also highlighted the importance of a president's words and actions. A president's behavior can have a profound impact on the country and its people, and it is essential that they demonstrate a sense of dignity, respect, and decorum at all times.\"}]"
   ]
  },
  {
   "cell_type": "code",
   "execution_count": 20,
   "metadata": {},
   "outputs": [
    {
     "data": {
      "text/plain": [
       "2549"
      ]
     },
     "execution_count": 20,
     "metadata": {},
     "output_type": "execute_result"
    }
   ],
   "source": [
    "len(response[0]['generated_text'])"
   ]
  }
 ],
 "metadata": {
  "kernelspec": {
   "display_name": "fakenews",
   "language": "python",
   "name": "python3"
  },
  "language_info": {
   "codemirror_mode": {
    "name": "ipython",
    "version": 3
   },
   "file_extension": ".py",
   "mimetype": "text/x-python",
   "name": "python",
   "nbconvert_exporter": "python",
   "pygments_lexer": "ipython3",
   "version": "3.9.16"
  }
 },
 "nbformat": 4,
 "nbformat_minor": 2
}
